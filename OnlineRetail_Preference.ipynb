{
  "nbformat": 4,
  "nbformat_minor": 0,
  "metadata": {
    "colab": {
      "name": "Copy of OnlineRetail_Preference.ipynb",
      "provenance": [],
      "collapsed_sections": [],
      "authorship_tag": "ABX9TyMKKDewbYgqmYtAEWd+2ZSe",
      "include_colab_link": true
    },
    "kernelspec": {
      "name": "python3",
      "display_name": "Python 3"
    },
    "language_info": {
      "name": "python"
    }
  },
  "cells": [
    {
      "cell_type": "markdown",
      "metadata": {
        "id": "view-in-github",
        "colab_type": "text"
      },
      "source": [
        "<a href=\"https://colab.research.google.com/github/ajayshivhare-aj/Product_Recommendation-for-online-retail/blob/main/OnlineRetail_Preference.ipynb\" target=\"_parent\"><img src=\"https://colab.research.google.com/assets/colab-badge.svg\" alt=\"Open In Colab\"/></a>"
      ]
    },
    {
      "cell_type": "markdown",
      "metadata": {
        "id": "zMh9wksobn9K"
      },
      "source": [
        "# **Overview**\n",
        "\n",
        "\n",
        "### *Customers are important to the survival and success of any business because they are the source of the revenue. The success of a business is the ability to satisfy customers and make them happy, and therefore turn a profit from them. Giving the customer recommendation about items that can buy it may attract them. Using retail transactional data can help in products recommendations.*\n",
        "\n",
        "###*In this project, I will analyze an online retail transactional dataset from UCI ML to find the top preferences products, the preferences products for each active customers, the top preference products in each country and the top preference products in each month. So, I will answer the following questions:*\n",
        "\n",
        "\n",
        "* ***What is the preference product for each active customer?***\n",
        "* ***What is the top three preference products in each country?***\n",
        "* ***What is the top three preference products in each month?***\n",
        "\n",
        "\n",
        "###*Answering these questions can help in identifying the customers’ favorite products depending on the month and country.*"
      ]
    },
    {
      "cell_type": "markdown",
      "metadata": {
        "id": "kYzjF8M9e_rk"
      },
      "source": [
        "# **Dataset**\n",
        "\n",
        "\n",
        "### **Online Retail.xlsx** - *The file contains all transactions occurring between 01/12/2010 and 09/12/2011 for a UK-based and registered non-store online retail. In the dataset, there are eight columns:*\n",
        "\n",
        "### **InvoiceNo:** Invoice number. Nominal, a 6-digit integral number uniquely assigned to each transaction. If this code starts with letter 'c', it indicates a cancellation.\n",
        "\n",
        "### **StockCode:** Product (item) code. Nominal, a 5-digit integral number uniquely assigned to each distinct product.\n",
        "\n",
        "### **Description:** Product (item) name. Nominal.\n",
        "\n",
        "### **Quantity:** The quantities of each product (item) per transaction. Numeric.\n",
        "\n",
        "### **InvoiceDate:** Invice Date and time. Numeric, the day and time when each transaction was generated.\n",
        "\n",
        "### **UnitPrice:** Unit price. Numeric, Product price per unit in sterling.\n",
        "\n",
        "### **CustomerID:** Customer number. Nominal, a 5-digit integral number uniquely assigned to each customer.\n",
        "\n",
        "### **Country:** Country name. Nominal, the name of the country where each customer resides.\n"
      ]
    },
    {
      "cell_type": "markdown",
      "metadata": {
        "id": "EzWqYRPTg8lB"
      },
      "source": [
        "##***`The project is organized as follows `***\n",
        "\n",
        "###***`Section 1 explores the data. Section 2 includes data preperation and Section 3 data analysis. Finally, Summary in the End.`***\n"
      ]
    },
    {
      "cell_type": "markdown",
      "metadata": {
        "id": "IGToVIy_heQZ"
      },
      "source": [
        "## **1. Data Understanding**\n",
        "\n",
        "### This step explores the dataset using different functions such as `head(), shape, describe()` and checks the null values using `isnull()`."
      ]
    },
    {
      "cell_type": "code",
      "metadata": {
        "id": "iJ0aY7ZSjMZE"
      },
      "source": [
        "# Import needed libraries\n",
        "\n",
        "import pandas as pd\n",
        "import numpy as np\n",
        "import matplotlib.pyplot as plt\n",
        "%matplotlib inline\n",
        "import seaborn as sns\n",
        "import re\n",
        "\n",
        "pd.options.display.max_rows = None"
      ],
      "execution_count": 1,
      "outputs": []
    },
    {
      "cell_type": "code",
      "metadata": {
        "colab": {
          "base_uri": "https://localhost:8080/",
          "height": 204
        },
        "id": "ufGBo4EOYHqe",
        "outputId": "3e0abb8c-d6b9-47a6-e3c8-536b16d865fc"
      },
      "source": [
        "# Read data in the excel file\n",
        "\n",
        "df = pd.read_excel('/OnlineRetail.xlsx')\n",
        "df.head()"
      ],
      "execution_count": 2,
      "outputs": [
        {
          "output_type": "execute_result",
          "data": {
            "text/html": [
              "<div>\n",
              "<style scoped>\n",
              "    .dataframe tbody tr th:only-of-type {\n",
              "        vertical-align: middle;\n",
              "    }\n",
              "\n",
              "    .dataframe tbody tr th {\n",
              "        vertical-align: top;\n",
              "    }\n",
              "\n",
              "    .dataframe thead th {\n",
              "        text-align: right;\n",
              "    }\n",
              "</style>\n",
              "<table border=\"1\" class=\"dataframe\">\n",
              "  <thead>\n",
              "    <tr style=\"text-align: right;\">\n",
              "      <th></th>\n",
              "      <th>InvoiceNo</th>\n",
              "      <th>StockCode</th>\n",
              "      <th>Description</th>\n",
              "      <th>Quantity</th>\n",
              "      <th>InvoiceDate</th>\n",
              "      <th>UnitPrice</th>\n",
              "      <th>CustomerID</th>\n",
              "      <th>Country</th>\n",
              "    </tr>\n",
              "  </thead>\n",
              "  <tbody>\n",
              "    <tr>\n",
              "      <th>0</th>\n",
              "      <td>536365</td>\n",
              "      <td>85123A</td>\n",
              "      <td>WHITE HANGING HEART T-LIGHT HOLDER</td>\n",
              "      <td>6</td>\n",
              "      <td>2010-12-01 08:26:00</td>\n",
              "      <td>2.55</td>\n",
              "      <td>17850.0</td>\n",
              "      <td>United Kingdom</td>\n",
              "    </tr>\n",
              "    <tr>\n",
              "      <th>1</th>\n",
              "      <td>536365</td>\n",
              "      <td>71053</td>\n",
              "      <td>WHITE METAL LANTERN</td>\n",
              "      <td>6</td>\n",
              "      <td>2010-12-01 08:26:00</td>\n",
              "      <td>3.39</td>\n",
              "      <td>17850.0</td>\n",
              "      <td>United Kingdom</td>\n",
              "    </tr>\n",
              "    <tr>\n",
              "      <th>2</th>\n",
              "      <td>536365</td>\n",
              "      <td>84406B</td>\n",
              "      <td>CREAM CUPID HEARTS COAT HANGER</td>\n",
              "      <td>8</td>\n",
              "      <td>2010-12-01 08:26:00</td>\n",
              "      <td>2.75</td>\n",
              "      <td>17850.0</td>\n",
              "      <td>United Kingdom</td>\n",
              "    </tr>\n",
              "    <tr>\n",
              "      <th>3</th>\n",
              "      <td>536365</td>\n",
              "      <td>84029G</td>\n",
              "      <td>KNITTED UNION FLAG HOT WATER BOTTLE</td>\n",
              "      <td>6</td>\n",
              "      <td>2010-12-01 08:26:00</td>\n",
              "      <td>3.39</td>\n",
              "      <td>17850.0</td>\n",
              "      <td>United Kingdom</td>\n",
              "    </tr>\n",
              "    <tr>\n",
              "      <th>4</th>\n",
              "      <td>536365</td>\n",
              "      <td>84029E</td>\n",
              "      <td>RED WOOLLY HOTTIE WHITE HEART.</td>\n",
              "      <td>6</td>\n",
              "      <td>2010-12-01 08:26:00</td>\n",
              "      <td>3.39</td>\n",
              "      <td>17850.0</td>\n",
              "      <td>United Kingdom</td>\n",
              "    </tr>\n",
              "  </tbody>\n",
              "</table>\n",
              "</div>"
            ],
            "text/plain": [
              "  InvoiceNo StockCode  ... CustomerID         Country\n",
              "0    536365    85123A  ...    17850.0  United Kingdom\n",
              "1    536365     71053  ...    17850.0  United Kingdom\n",
              "2    536365    84406B  ...    17850.0  United Kingdom\n",
              "3    536365    84029G  ...    17850.0  United Kingdom\n",
              "4    536365    84029E  ...    17850.0  United Kingdom\n",
              "\n",
              "[5 rows x 8 columns]"
            ]
          },
          "metadata": {
            "tags": []
          },
          "execution_count": 2
        }
      ]
    },
    {
      "cell_type": "code",
      "metadata": {
        "colab": {
          "base_uri": "https://localhost:8080/"
        },
        "id": "8rTZ_gXnZ9Fq",
        "outputId": "ef4606c3-282e-409d-fd7a-646bd3d5dcf4"
      },
      "source": [
        "df.shape"
      ],
      "execution_count": 3,
      "outputs": [
        {
          "output_type": "execute_result",
          "data": {
            "text/plain": [
              "(541909, 8)"
            ]
          },
          "metadata": {
            "tags": []
          },
          "execution_count": 3
        }
      ]
    },
    {
      "cell_type": "code",
      "metadata": {
        "colab": {
          "base_uri": "https://localhost:8080/"
        },
        "id": "u3DKKIDTaahx",
        "outputId": "5ddca5fa-2ce1-4940-d900-df7ad93683a3"
      },
      "source": [
        "df.info()"
      ],
      "execution_count": 4,
      "outputs": [
        {
          "output_type": "stream",
          "text": [
            "<class 'pandas.core.frame.DataFrame'>\n",
            "RangeIndex: 541909 entries, 0 to 541908\n",
            "Data columns (total 8 columns):\n",
            " #   Column       Non-Null Count   Dtype         \n",
            "---  ------       --------------   -----         \n",
            " 0   InvoiceNo    541909 non-null  object        \n",
            " 1   StockCode    541909 non-null  object        \n",
            " 2   Description  540455 non-null  object        \n",
            " 3   Quantity     541909 non-null  int64         \n",
            " 4   InvoiceDate  541909 non-null  datetime64[ns]\n",
            " 5   UnitPrice    541909 non-null  float64       \n",
            " 6   CustomerID   406829 non-null  float64       \n",
            " 7   Country      541909 non-null  object        \n",
            "dtypes: datetime64[ns](1), float64(2), int64(1), object(4)\n",
            "memory usage: 33.1+ MB\n"
          ],
          "name": "stdout"
        }
      ]
    },
    {
      "cell_type": "code",
      "metadata": {
        "colab": {
          "base_uri": "https://localhost:8080/",
          "height": 297
        },
        "id": "4ZX4Dk41acCo",
        "outputId": "c167ccf5-7796-4a80-a56f-515876e1a359"
      },
      "source": [
        "df.describe()"
      ],
      "execution_count": 5,
      "outputs": [
        {
          "output_type": "execute_result",
          "data": {
            "text/html": [
              "<div>\n",
              "<style scoped>\n",
              "    .dataframe tbody tr th:only-of-type {\n",
              "        vertical-align: middle;\n",
              "    }\n",
              "\n",
              "    .dataframe tbody tr th {\n",
              "        vertical-align: top;\n",
              "    }\n",
              "\n",
              "    .dataframe thead th {\n",
              "        text-align: right;\n",
              "    }\n",
              "</style>\n",
              "<table border=\"1\" class=\"dataframe\">\n",
              "  <thead>\n",
              "    <tr style=\"text-align: right;\">\n",
              "      <th></th>\n",
              "      <th>Quantity</th>\n",
              "      <th>UnitPrice</th>\n",
              "      <th>CustomerID</th>\n",
              "    </tr>\n",
              "  </thead>\n",
              "  <tbody>\n",
              "    <tr>\n",
              "      <th>count</th>\n",
              "      <td>541909.000000</td>\n",
              "      <td>541909.000000</td>\n",
              "      <td>406829.000000</td>\n",
              "    </tr>\n",
              "    <tr>\n",
              "      <th>mean</th>\n",
              "      <td>9.552250</td>\n",
              "      <td>4.611114</td>\n",
              "      <td>15287.690570</td>\n",
              "    </tr>\n",
              "    <tr>\n",
              "      <th>std</th>\n",
              "      <td>218.081158</td>\n",
              "      <td>96.759853</td>\n",
              "      <td>1713.600303</td>\n",
              "    </tr>\n",
              "    <tr>\n",
              "      <th>min</th>\n",
              "      <td>-80995.000000</td>\n",
              "      <td>-11062.060000</td>\n",
              "      <td>12346.000000</td>\n",
              "    </tr>\n",
              "    <tr>\n",
              "      <th>25%</th>\n",
              "      <td>1.000000</td>\n",
              "      <td>1.250000</td>\n",
              "      <td>13953.000000</td>\n",
              "    </tr>\n",
              "    <tr>\n",
              "      <th>50%</th>\n",
              "      <td>3.000000</td>\n",
              "      <td>2.080000</td>\n",
              "      <td>15152.000000</td>\n",
              "    </tr>\n",
              "    <tr>\n",
              "      <th>75%</th>\n",
              "      <td>10.000000</td>\n",
              "      <td>4.130000</td>\n",
              "      <td>16791.000000</td>\n",
              "    </tr>\n",
              "    <tr>\n",
              "      <th>max</th>\n",
              "      <td>80995.000000</td>\n",
              "      <td>38970.000000</td>\n",
              "      <td>18287.000000</td>\n",
              "    </tr>\n",
              "  </tbody>\n",
              "</table>\n",
              "</div>"
            ],
            "text/plain": [
              "            Quantity      UnitPrice     CustomerID\n",
              "count  541909.000000  541909.000000  406829.000000\n",
              "mean        9.552250       4.611114   15287.690570\n",
              "std       218.081158      96.759853    1713.600303\n",
              "min    -80995.000000  -11062.060000   12346.000000\n",
              "25%         1.000000       1.250000   13953.000000\n",
              "50%         3.000000       2.080000   15152.000000\n",
              "75%        10.000000       4.130000   16791.000000\n",
              "max     80995.000000   38970.000000   18287.000000"
            ]
          },
          "metadata": {
            "tags": []
          },
          "execution_count": 5
        }
      ]
    },
    {
      "cell_type": "code",
      "metadata": {
        "colab": {
          "base_uri": "https://localhost:8080/"
        },
        "id": "DxtnBxvYbsTB",
        "outputId": "684f7c6b-61bb-4cca-ea65-c8b9e24cd847"
      },
      "source": [
        "# Check null values\n",
        "df.isnull().sum()"
      ],
      "execution_count": 6,
      "outputs": [
        {
          "output_type": "execute_result",
          "data": {
            "text/plain": [
              "InvoiceNo           0\n",
              "StockCode           0\n",
              "Description      1454\n",
              "Quantity            0\n",
              "InvoiceDate         0\n",
              "UnitPrice           0\n",
              "CustomerID     135080\n",
              "Country             0\n",
              "dtype: int64"
            ]
          },
          "metadata": {
            "tags": []
          },
          "execution_count": 6
        }
      ]
    },
    {
      "cell_type": "code",
      "metadata": {
        "colab": {
          "base_uri": "https://localhost:8080/"
        },
        "id": "Ycsq3E_PcT_D",
        "outputId": "1bd98a2c-20ed-4a13-bbd2-e7c7b1dfb8c1"
      },
      "source": [
        "# Check number of unique values\n",
        "df.nunique()"
      ],
      "execution_count": 7,
      "outputs": [
        {
          "output_type": "execute_result",
          "data": {
            "text/plain": [
              "InvoiceNo      25900\n",
              "StockCode       4070\n",
              "Description     4223\n",
              "Quantity         722\n",
              "InvoiceDate    23260\n",
              "UnitPrice       1630\n",
              "CustomerID      4372\n",
              "Country           38\n",
              "dtype: int64"
            ]
          },
          "metadata": {
            "tags": []
          },
          "execution_count": 7
        }
      ]
    },
    {
      "cell_type": "code",
      "metadata": {
        "id": "Oa22kOZ2dAIa",
        "colab": {
          "base_uri": "https://localhost:8080/"
        },
        "outputId": "2c1f545c-6f46-448c-a3a1-826fc68147df"
      },
      "source": [
        "# Check each stock code has only one description\n",
        "df.groupby('StockCode')['Description'].unique().tail()"
      ],
      "execution_count": 8,
      "outputs": [
        {
          "output_type": "execute_result",
          "data": {
            "text/plain": [
              "StockCode\n",
              "gift_0001_20    [Dotcomgiftshop Gift Voucher £20.00, to push o...\n",
              "gift_0001_30            [Dotcomgiftshop Gift Voucher £30.00, nan]\n",
              "gift_0001_40                 [Dotcomgiftshop Gift Voucher £40.00]\n",
              "gift_0001_50                 [Dotcomgiftshop Gift Voucher £50.00]\n",
              "m                                                        [Manual]\n",
              "Name: Description, dtype: object"
            ]
          },
          "metadata": {
            "tags": []
          },
          "execution_count": 8
        }
      ]
    },
    {
      "cell_type": "code",
      "metadata": {
        "colab": {
          "base_uri": "https://localhost:8080/"
        },
        "id": "9gSayNvPdTkW",
        "outputId": "e29e923b-fc29-452b-bfaf-2c5498225520"
      },
      "source": [
        "# Number of invoices for each country\n",
        "df.groupby(['Country'])['InvoiceNo'].count()"
      ],
      "execution_count": 9,
      "outputs": [
        {
          "output_type": "execute_result",
          "data": {
            "text/plain": [
              "Country\n",
              "Australia                 1259\n",
              "Austria                    401\n",
              "Bahrain                     19\n",
              "Belgium                   2069\n",
              "Brazil                      32\n",
              "Canada                     151\n",
              "Channel Islands            758\n",
              "Cyprus                     622\n",
              "Czech Republic              30\n",
              "Denmark                    389\n",
              "EIRE                      8196\n",
              "European Community          61\n",
              "Finland                    695\n",
              "France                    8557\n",
              "Germany                   9495\n",
              "Greece                     146\n",
              "Hong Kong                  288\n",
              "Iceland                    182\n",
              "Israel                     297\n",
              "Italy                      803\n",
              "Japan                      358\n",
              "Lebanon                     45\n",
              "Lithuania                   35\n",
              "Malta                      127\n",
              "Netherlands               2371\n",
              "Norway                    1086\n",
              "Poland                     341\n",
              "Portugal                  1519\n",
              "RSA                         58\n",
              "Saudi Arabia                10\n",
              "Singapore                  229\n",
              "Spain                     2533\n",
              "Sweden                     462\n",
              "Switzerland               2002\n",
              "USA                        291\n",
              "United Arab Emirates        68\n",
              "United Kingdom          495478\n",
              "Unspecified                446\n",
              "Name: InvoiceNo, dtype: int64"
            ]
          },
          "metadata": {
            "tags": []
          },
          "execution_count": 9
        }
      ]
    },
    {
      "cell_type": "markdown",
      "metadata": {
        "id": "CbF04FLigdif"
      },
      "source": [
        "### **1.1 Observations:**\n",
        "\n",
        "*From the data, we can see that:*\n",
        "\n",
        "* The minimum price and quantity are negative, and this is impossible.\n",
        "* There are null values in CustomerID and Description columns.\n",
        "* Some Stock Codes are not a 5-digit integral number.\n",
        "* Some Stock Codes has more than one item description.\n",
        "* The number of customers is 4372.\n",
        "* The number of countries is 38."
      ]
    },
    {
      "cell_type": "markdown",
      "metadata": {
        "id": "hvMG10RQa3DN"
      },
      "source": [
        ""
      ]
    },
    {
      "cell_type": "markdown",
      "metadata": {
        "id": "GLci5n-RiMFC"
      },
      "source": [
        "## **2. Data Preparation**\n",
        "\n",
        "### This step includes Pre-Processing data before analyzing it."
      ]
    },
    {
      "cell_type": "markdown",
      "metadata": {
        "id": "xjcm5ZrTjn1y"
      },
      "source": [
        "### **2.1. Missing Data**\n",
        "\n",
        "As we can see from the previous section, there are null data. \n",
        "\n",
        "So, I will remove the rows that contain null values."
      ]
    },
    {
      "cell_type": "code",
      "metadata": {
        "colab": {
          "base_uri": "https://localhost:8080/"
        },
        "id": "fCGZrZDnkIfY",
        "outputId": "26202f14-9ab5-46c9-ea24-5c0c26e6ccf2"
      },
      "source": [
        "# Delete rows with null CustomerID\n",
        "clean_df = df.dropna()\n",
        "\n",
        "# Check null values\n",
        "clean_df.isnull().sum()"
      ],
      "execution_count": 10,
      "outputs": [
        {
          "output_type": "execute_result",
          "data": {
            "text/plain": [
              "InvoiceNo      0\n",
              "StockCode      0\n",
              "Description    0\n",
              "Quantity       0\n",
              "InvoiceDate    0\n",
              "UnitPrice      0\n",
              "CustomerID     0\n",
              "Country        0\n",
              "dtype: int64"
            ]
          },
          "metadata": {
            "tags": []
          },
          "execution_count": 10
        }
      ]
    },
    {
      "cell_type": "code",
      "metadata": {
        "colab": {
          "base_uri": "https://localhost:8080/"
        },
        "id": "14rG3FFklqqU",
        "outputId": "684b66df-cc4f-487c-981b-968e7bec9485"
      },
      "source": [
        "clean_df.shape"
      ],
      "execution_count": 11,
      "outputs": [
        {
          "output_type": "execute_result",
          "data": {
            "text/plain": [
              "(406829, 8)"
            ]
          },
          "metadata": {
            "tags": []
          },
          "execution_count": 11
        }
      ]
    },
    {
      "cell_type": "markdown",
      "metadata": {
        "id": "TXLc3wfFuETq"
      },
      "source": [
        "### **2.2. Dealing with Inconsistent Data**\n",
        "\n",
        "*This section includes:*\n",
        "\n",
        "* Removing the unspecified countries.\n",
        "* Removing the price and quantity that are less than or equal to 0.\n",
        "* Removing inconsistent Stock code.\n",
        "* Keeping only one description for each Stock codes."
      ]
    },
    {
      "cell_type": "code",
      "metadata": {
        "id": "NtyBsBiUuVjr"
      },
      "source": [
        "# Remove the unspecified countries\n",
        "clean_df = clean_df[(clean_df.Country != 'Unspecified')]"
      ],
      "execution_count": 12,
      "outputs": []
    },
    {
      "cell_type": "code",
      "metadata": {
        "id": "WHxM4T8xu0Dn"
      },
      "source": [
        "# Removing the price and quantity that are less than 0\n",
        "clean_df = clean_df[(clean_df.Quantity > 0) & (clean_df.UnitPrice >= 0)]"
      ],
      "execution_count": 13,
      "outputs": []
    },
    {
      "cell_type": "code",
      "metadata": {
        "colab": {
          "base_uri": "https://localhost:8080/",
          "height": 297
        },
        "id": "D2WFCBwfvTH3",
        "outputId": "3742099b-1841-4d22-c945-a85ecfe9d6d9"
      },
      "source": [
        "clean_df.describe()"
      ],
      "execution_count": 14,
      "outputs": [
        {
          "output_type": "execute_result",
          "data": {
            "text/html": [
              "<div>\n",
              "<style scoped>\n",
              "    .dataframe tbody tr th:only-of-type {\n",
              "        vertical-align: middle;\n",
              "    }\n",
              "\n",
              "    .dataframe tbody tr th {\n",
              "        vertical-align: top;\n",
              "    }\n",
              "\n",
              "    .dataframe thead th {\n",
              "        text-align: right;\n",
              "    }\n",
              "</style>\n",
              "<table border=\"1\" class=\"dataframe\">\n",
              "  <thead>\n",
              "    <tr style=\"text-align: right;\">\n",
              "      <th></th>\n",
              "      <th>Quantity</th>\n",
              "      <th>UnitPrice</th>\n",
              "      <th>CustomerID</th>\n",
              "    </tr>\n",
              "  </thead>\n",
              "  <tbody>\n",
              "    <tr>\n",
              "      <th>count</th>\n",
              "      <td>397680.000000</td>\n",
              "      <td>397680.000000</td>\n",
              "      <td>397680.000000</td>\n",
              "    </tr>\n",
              "    <tr>\n",
              "      <th>mean</th>\n",
              "      <td>13.025314</td>\n",
              "      <td>3.116123</td>\n",
              "      <td>15295.280185</td>\n",
              "    </tr>\n",
              "    <tr>\n",
              "      <th>std</th>\n",
              "      <td>180.475362</td>\n",
              "      <td>22.103411</td>\n",
              "      <td>1712.842626</td>\n",
              "    </tr>\n",
              "    <tr>\n",
              "      <th>min</th>\n",
              "      <td>1.000000</td>\n",
              "      <td>0.000000</td>\n",
              "      <td>12346.000000</td>\n",
              "    </tr>\n",
              "    <tr>\n",
              "      <th>25%</th>\n",
              "      <td>2.000000</td>\n",
              "      <td>1.250000</td>\n",
              "      <td>13969.000000</td>\n",
              "    </tr>\n",
              "    <tr>\n",
              "      <th>50%</th>\n",
              "      <td>6.000000</td>\n",
              "      <td>1.950000</td>\n",
              "      <td>15159.000000</td>\n",
              "    </tr>\n",
              "    <tr>\n",
              "      <th>75%</th>\n",
              "      <td>12.000000</td>\n",
              "      <td>3.750000</td>\n",
              "      <td>16800.000000</td>\n",
              "    </tr>\n",
              "    <tr>\n",
              "      <th>max</th>\n",
              "      <td>80995.000000</td>\n",
              "      <td>8142.750000</td>\n",
              "      <td>18287.000000</td>\n",
              "    </tr>\n",
              "  </tbody>\n",
              "</table>\n",
              "</div>"
            ],
            "text/plain": [
              "            Quantity      UnitPrice     CustomerID\n",
              "count  397680.000000  397680.000000  397680.000000\n",
              "mean       13.025314       3.116123   15295.280185\n",
              "std       180.475362      22.103411    1712.842626\n",
              "min         1.000000       0.000000   12346.000000\n",
              "25%         2.000000       1.250000   13969.000000\n",
              "50%         6.000000       1.950000   15159.000000\n",
              "75%        12.000000       3.750000   16800.000000\n",
              "max     80995.000000    8142.750000   18287.000000"
            ]
          },
          "metadata": {
            "tags": []
          },
          "execution_count": 14
        }
      ]
    },
    {
      "cell_type": "code",
      "metadata": {
        "colab": {
          "base_uri": "https://localhost:8080/"
        },
        "id": "e-x1MTHe1dXj",
        "outputId": "45bf0e0e-a4d6-4e45-f4bc-f17afb10dcd5"
      },
      "source": [
        "# Check the stock code\n",
        "\n",
        "def has_right_scode(input):\n",
        "    \n",
        "    \"\"\"\n",
        "    Function: check the if the stock code is wirtten in a right way,\n",
        "            The function check if the code contains 5-digit number or 5-digit number with a letter.\n",
        "    Args:\n",
        "      input(String): Stock code\n",
        "    Return:\n",
        "      Boolean: True or False\n",
        "    \"\"\"\n",
        "    \n",
        "    x = re.search(\"^\\d{5}$\", input)\n",
        "    y = re.search(\"^\\d{5}[a-zA-Z]{1}$\", input)\n",
        "    if (x or y):\n",
        "        return True\n",
        "    else:\n",
        "        return False\n",
        "\n",
        "    \n",
        "clean_df['StockCode'] = clean_df['StockCode'].astype('str')\n",
        "clean_df = clean_df[clean_df['StockCode'].apply(has_right_scode) == True]\n",
        "clean_df.shape"
      ],
      "execution_count": 15,
      "outputs": [
        {
          "output_type": "execute_result",
          "data": {
            "text/plain": [
              "(395835, 8)"
            ]
          },
          "metadata": {
            "tags": []
          },
          "execution_count": 15
        }
      ]
    },
    {
      "cell_type": "code",
      "metadata": {
        "colab": {
          "base_uri": "https://localhost:8080/"
        },
        "id": "FHllIil36c8Y",
        "outputId": "68ea07e9-1faa-46cb-f80d-0fb5bc6c0d13"
      },
      "source": [
        "clean_df.info()"
      ],
      "execution_count": 16,
      "outputs": [
        {
          "output_type": "stream",
          "text": [
            "<class 'pandas.core.frame.DataFrame'>\n",
            "Int64Index: 395835 entries, 0 to 541908\n",
            "Data columns (total 8 columns):\n",
            " #   Column       Non-Null Count   Dtype         \n",
            "---  ------       --------------   -----         \n",
            " 0   InvoiceNo    395835 non-null  object        \n",
            " 1   StockCode    395835 non-null  object        \n",
            " 2   Description  395835 non-null  object        \n",
            " 3   Quantity     395835 non-null  int64         \n",
            " 4   InvoiceDate  395835 non-null  datetime64[ns]\n",
            " 5   UnitPrice    395835 non-null  float64       \n",
            " 6   CustomerID   395835 non-null  float64       \n",
            " 7   Country      395835 non-null  object        \n",
            "dtypes: datetime64[ns](1), float64(2), int64(1), object(4)\n",
            "memory usage: 27.2+ MB\n"
          ],
          "name": "stdout"
        }
      ]
    },
    {
      "cell_type": "code",
      "metadata": {
        "colab": {
          "base_uri": "https://localhost:8080/",
          "height": 204
        },
        "id": "y2IGJGxM6FHo",
        "outputId": "7036365a-01c2-4979-9f7c-4cc8b9331de9"
      },
      "source": [
        "## One description for each stock code\n",
        "\n",
        "# Put all Descriptions of each StockCode in a list \n",
        "df_items = pd.DataFrame(clean_df.groupby('StockCode')['Description'].unique()).reset_index()\n",
        "df_items.head()"
      ],
      "execution_count": 17,
      "outputs": [
        {
          "output_type": "execute_result",
          "data": {
            "text/html": [
              "<div>\n",
              "<style scoped>\n",
              "    .dataframe tbody tr th:only-of-type {\n",
              "        vertical-align: middle;\n",
              "    }\n",
              "\n",
              "    .dataframe tbody tr th {\n",
              "        vertical-align: top;\n",
              "    }\n",
              "\n",
              "    .dataframe thead th {\n",
              "        text-align: right;\n",
              "    }\n",
              "</style>\n",
              "<table border=\"1\" class=\"dataframe\">\n",
              "  <thead>\n",
              "    <tr style=\"text-align: right;\">\n",
              "      <th></th>\n",
              "      <th>StockCode</th>\n",
              "      <th>Description</th>\n",
              "    </tr>\n",
              "  </thead>\n",
              "  <tbody>\n",
              "    <tr>\n",
              "      <th>0</th>\n",
              "      <td>10002</td>\n",
              "      <td>[INFLATABLE POLITICAL GLOBE ]</td>\n",
              "    </tr>\n",
              "    <tr>\n",
              "      <th>1</th>\n",
              "      <td>10080</td>\n",
              "      <td>[GROOVY CACTUS INFLATABLE]</td>\n",
              "    </tr>\n",
              "    <tr>\n",
              "      <th>2</th>\n",
              "      <td>10120</td>\n",
              "      <td>[DOGGY RUBBER]</td>\n",
              "    </tr>\n",
              "    <tr>\n",
              "      <th>3</th>\n",
              "      <td>10123C</td>\n",
              "      <td>[HEARTS WRAPPING TAPE ]</td>\n",
              "    </tr>\n",
              "    <tr>\n",
              "      <th>4</th>\n",
              "      <td>10124A</td>\n",
              "      <td>[SPOTS ON RED BOOKCOVER TAPE]</td>\n",
              "    </tr>\n",
              "  </tbody>\n",
              "</table>\n",
              "</div>"
            ],
            "text/plain": [
              "  StockCode                    Description\n",
              "0     10002  [INFLATABLE POLITICAL GLOBE ]\n",
              "1     10080     [GROOVY CACTUS INFLATABLE]\n",
              "2     10120                 [DOGGY RUBBER]\n",
              "3    10123C        [HEARTS WRAPPING TAPE ]\n",
              "4    10124A  [SPOTS ON RED BOOKCOVER TAPE]"
            ]
          },
          "metadata": {
            "tags": []
          },
          "execution_count": 17
        }
      ]
    },
    {
      "cell_type": "code",
      "metadata": {
        "colab": {
          "base_uri": "https://localhost:8080/",
          "height": 204
        },
        "id": "7FGEplaK9iAz",
        "outputId": "5bb01e65-847b-4025-dda2-9aae17cdb910"
      },
      "source": [
        "# StockCode that have more than one Description\n",
        "df_items[df_items['Description'].str.len() != 1].head()"
      ],
      "execution_count": 18,
      "outputs": [
        {
          "output_type": "execute_result",
          "data": {
            "text/html": [
              "<div>\n",
              "<style scoped>\n",
              "    .dataframe tbody tr th:only-of-type {\n",
              "        vertical-align: middle;\n",
              "    }\n",
              "\n",
              "    .dataframe tbody tr th {\n",
              "        vertical-align: top;\n",
              "    }\n",
              "\n",
              "    .dataframe thead th {\n",
              "        text-align: right;\n",
              "    }\n",
              "</style>\n",
              "<table border=\"1\" class=\"dataframe\">\n",
              "  <thead>\n",
              "    <tr style=\"text-align: right;\">\n",
              "      <th></th>\n",
              "      <th>StockCode</th>\n",
              "      <th>Description</th>\n",
              "    </tr>\n",
              "  </thead>\n",
              "  <tbody>\n",
              "    <tr>\n",
              "      <th>41</th>\n",
              "      <td>16156L</td>\n",
              "      <td>[WRAP, CAROUSEL, WRAP CAROUSEL]</td>\n",
              "    </tr>\n",
              "    <tr>\n",
              "      <th>99</th>\n",
              "      <td>17107D</td>\n",
              "      <td>[FLOWER FAIRY,5 SUMMER B'DRAW LINERS, FLOWER F...</td>\n",
              "    </tr>\n",
              "    <tr>\n",
              "      <th>117</th>\n",
              "      <td>20622</td>\n",
              "      <td>[VIPPASSPORT COVER , VIP PASSPORT COVER ]</td>\n",
              "    </tr>\n",
              "    <tr>\n",
              "      <th>169</th>\n",
              "      <td>20725</td>\n",
              "      <td>[LUNCH BAG RED RETROSPOT, LUNCH BAG RED SPOTTY]</td>\n",
              "    </tr>\n",
              "    <tr>\n",
              "      <th>261</th>\n",
              "      <td>20914</td>\n",
              "      <td>[SET/5 RED RETROSPOT LID GLASS BOWLS, SET/5 RE...</td>\n",
              "    </tr>\n",
              "  </tbody>\n",
              "</table>\n",
              "</div>"
            ],
            "text/plain": [
              "    StockCode                                        Description\n",
              "41     16156L                    [WRAP, CAROUSEL, WRAP CAROUSEL]\n",
              "99     17107D  [FLOWER FAIRY,5 SUMMER B'DRAW LINERS, FLOWER F...\n",
              "117     20622          [VIPPASSPORT COVER , VIP PASSPORT COVER ]\n",
              "169     20725    [LUNCH BAG RED RETROSPOT, LUNCH BAG RED SPOTTY]\n",
              "261     20914  [SET/5 RED RETROSPOT LID GLASS BOWLS, SET/5 RE..."
            ]
          },
          "metadata": {
            "tags": []
          },
          "execution_count": 18
        }
      ]
    },
    {
      "cell_type": "markdown",
      "metadata": {
        "id": "gNAxAqKgBSgD"
      },
      "source": [
        "***Note:*** As we can see, the items in the each Description list are the same item but they are written in different ways. So, I will keep only one description."
      ]
    },
    {
      "cell_type": "code",
      "metadata": {
        "colab": {
          "base_uri": "https://localhost:8080/",
          "height": 204
        },
        "id": "acppabNqBRQp",
        "outputId": "f451a171-8f8a-4fb9-c483-3df9844a1aa6"
      },
      "source": [
        "# Take one Description for each StockCode (*)\n",
        "df_items.loc[:, 'Description'] = df_items.Description.map(lambda x: x[0])\n",
        "df_items.head()"
      ],
      "execution_count": 19,
      "outputs": [
        {
          "output_type": "execute_result",
          "data": {
            "text/html": [
              "<div>\n",
              "<style scoped>\n",
              "    .dataframe tbody tr th:only-of-type {\n",
              "        vertical-align: middle;\n",
              "    }\n",
              "\n",
              "    .dataframe tbody tr th {\n",
              "        vertical-align: top;\n",
              "    }\n",
              "\n",
              "    .dataframe thead th {\n",
              "        text-align: right;\n",
              "    }\n",
              "</style>\n",
              "<table border=\"1\" class=\"dataframe\">\n",
              "  <thead>\n",
              "    <tr style=\"text-align: right;\">\n",
              "      <th></th>\n",
              "      <th>StockCode</th>\n",
              "      <th>Description</th>\n",
              "    </tr>\n",
              "  </thead>\n",
              "  <tbody>\n",
              "    <tr>\n",
              "      <th>0</th>\n",
              "      <td>10002</td>\n",
              "      <td>INFLATABLE POLITICAL GLOBE</td>\n",
              "    </tr>\n",
              "    <tr>\n",
              "      <th>1</th>\n",
              "      <td>10080</td>\n",
              "      <td>GROOVY CACTUS INFLATABLE</td>\n",
              "    </tr>\n",
              "    <tr>\n",
              "      <th>2</th>\n",
              "      <td>10120</td>\n",
              "      <td>DOGGY RUBBER</td>\n",
              "    </tr>\n",
              "    <tr>\n",
              "      <th>3</th>\n",
              "      <td>10123C</td>\n",
              "      <td>HEARTS WRAPPING TAPE</td>\n",
              "    </tr>\n",
              "    <tr>\n",
              "      <th>4</th>\n",
              "      <td>10124A</td>\n",
              "      <td>SPOTS ON RED BOOKCOVER TAPE</td>\n",
              "    </tr>\n",
              "  </tbody>\n",
              "</table>\n",
              "</div>"
            ],
            "text/plain": [
              "  StockCode                  Description\n",
              "0     10002  INFLATABLE POLITICAL GLOBE \n",
              "1     10080     GROOVY CACTUS INFLATABLE\n",
              "2     10120                 DOGGY RUBBER\n",
              "3    10123C        HEARTS WRAPPING TAPE \n",
              "4    10124A  SPOTS ON RED BOOKCOVER TAPE"
            ]
          },
          "metadata": {
            "tags": []
          },
          "execution_count": 19
        }
      ]
    },
    {
      "cell_type": "code",
      "metadata": {
        "colab": {
          "base_uri": "https://localhost:8080/",
          "height": 204
        },
        "id": "nKKvcMpcCoZq",
        "outputId": "648c4fb8-1f8e-4fea-8b0d-e51825a3ae39"
      },
      "source": [
        "# Merge clean_df with df_items\n",
        "\n",
        "clean_df = clean_df.drop('Description', axis = 1)\n",
        "clean_df = pd.merge(clean_df, df_items, on = 'StockCode')\n",
        "\n",
        "clean_df.head()"
      ],
      "execution_count": 20,
      "outputs": [
        {
          "output_type": "execute_result",
          "data": {
            "text/html": [
              "<div>\n",
              "<style scoped>\n",
              "    .dataframe tbody tr th:only-of-type {\n",
              "        vertical-align: middle;\n",
              "    }\n",
              "\n",
              "    .dataframe tbody tr th {\n",
              "        vertical-align: top;\n",
              "    }\n",
              "\n",
              "    .dataframe thead th {\n",
              "        text-align: right;\n",
              "    }\n",
              "</style>\n",
              "<table border=\"1\" class=\"dataframe\">\n",
              "  <thead>\n",
              "    <tr style=\"text-align: right;\">\n",
              "      <th></th>\n",
              "      <th>InvoiceNo</th>\n",
              "      <th>StockCode</th>\n",
              "      <th>Quantity</th>\n",
              "      <th>InvoiceDate</th>\n",
              "      <th>UnitPrice</th>\n",
              "      <th>CustomerID</th>\n",
              "      <th>Country</th>\n",
              "      <th>Description</th>\n",
              "    </tr>\n",
              "  </thead>\n",
              "  <tbody>\n",
              "    <tr>\n",
              "      <th>0</th>\n",
              "      <td>536365</td>\n",
              "      <td>85123A</td>\n",
              "      <td>6</td>\n",
              "      <td>2010-12-01 08:26:00</td>\n",
              "      <td>2.55</td>\n",
              "      <td>17850.0</td>\n",
              "      <td>United Kingdom</td>\n",
              "      <td>WHITE HANGING HEART T-LIGHT HOLDER</td>\n",
              "    </tr>\n",
              "    <tr>\n",
              "      <th>1</th>\n",
              "      <td>536373</td>\n",
              "      <td>85123A</td>\n",
              "      <td>6</td>\n",
              "      <td>2010-12-01 09:02:00</td>\n",
              "      <td>2.55</td>\n",
              "      <td>17850.0</td>\n",
              "      <td>United Kingdom</td>\n",
              "      <td>WHITE HANGING HEART T-LIGHT HOLDER</td>\n",
              "    </tr>\n",
              "    <tr>\n",
              "      <th>2</th>\n",
              "      <td>536375</td>\n",
              "      <td>85123A</td>\n",
              "      <td>6</td>\n",
              "      <td>2010-12-01 09:32:00</td>\n",
              "      <td>2.55</td>\n",
              "      <td>17850.0</td>\n",
              "      <td>United Kingdom</td>\n",
              "      <td>WHITE HANGING HEART T-LIGHT HOLDER</td>\n",
              "    </tr>\n",
              "    <tr>\n",
              "      <th>3</th>\n",
              "      <td>536390</td>\n",
              "      <td>85123A</td>\n",
              "      <td>64</td>\n",
              "      <td>2010-12-01 10:19:00</td>\n",
              "      <td>2.55</td>\n",
              "      <td>17511.0</td>\n",
              "      <td>United Kingdom</td>\n",
              "      <td>WHITE HANGING HEART T-LIGHT HOLDER</td>\n",
              "    </tr>\n",
              "    <tr>\n",
              "      <th>4</th>\n",
              "      <td>536394</td>\n",
              "      <td>85123A</td>\n",
              "      <td>32</td>\n",
              "      <td>2010-12-01 10:39:00</td>\n",
              "      <td>2.55</td>\n",
              "      <td>13408.0</td>\n",
              "      <td>United Kingdom</td>\n",
              "      <td>WHITE HANGING HEART T-LIGHT HOLDER</td>\n",
              "    </tr>\n",
              "  </tbody>\n",
              "</table>\n",
              "</div>"
            ],
            "text/plain": [
              "  InvoiceNo StockCode  ...         Country                         Description\n",
              "0    536365    85123A  ...  United Kingdom  WHITE HANGING HEART T-LIGHT HOLDER\n",
              "1    536373    85123A  ...  United Kingdom  WHITE HANGING HEART T-LIGHT HOLDER\n",
              "2    536375    85123A  ...  United Kingdom  WHITE HANGING HEART T-LIGHT HOLDER\n",
              "3    536390    85123A  ...  United Kingdom  WHITE HANGING HEART T-LIGHT HOLDER\n",
              "4    536394    85123A  ...  United Kingdom  WHITE HANGING HEART T-LIGHT HOLDER\n",
              "\n",
              "[5 rows x 8 columns]"
            ]
          },
          "metadata": {
            "tags": []
          },
          "execution_count": 20
        }
      ]
    },
    {
      "cell_type": "markdown",
      "metadata": {
        "id": "fnFrcTAYF7qL"
      },
      "source": [
        "###***`Now, the data is ready to be used to analysis.`***"
      ]
    },
    {
      "cell_type": "markdown",
      "metadata": {
        "id": "lKRzeNb5HkLn"
      },
      "source": [
        "## **3. Data Analysis**\n",
        "\n",
        "### This use the dataset to answer the questions, and discusses the results."
      ]
    },
    {
      "cell_type": "markdown",
      "metadata": {
        "id": "kC9eNd1MIF7W"
      },
      "source": [
        "### **3.1 What is the preference product for the active customers?**\n",
        "\n",
        "The active customers are the customers who buy from the store many times. These customers bought more times than the median of times of all customers. The preference product of the customer is the most purchased product by the customer."
      ]
    },
    {
      "cell_type": "code",
      "metadata": {
        "colab": {
          "base_uri": "https://localhost:8080/",
          "height": 204
        },
        "id": "R_b93yC-H4sq",
        "outputId": "32c6be97-9fa5-4f86-cb2e-c9c5c0633c9a"
      },
      "source": [
        "# Count number of purchases for each customer\n",
        "trans_num = pd.DataFrame(clean_df.groupby(['CustomerID'])['InvoiceNo'].count()).reset_index().rename(columns = {'InvoiceNo': 'Transactions'})\n",
        "trans_num.head()"
      ],
      "execution_count": 21,
      "outputs": [
        {
          "output_type": "execute_result",
          "data": {
            "text/html": [
              "<div>\n",
              "<style scoped>\n",
              "    .dataframe tbody tr th:only-of-type {\n",
              "        vertical-align: middle;\n",
              "    }\n",
              "\n",
              "    .dataframe tbody tr th {\n",
              "        vertical-align: top;\n",
              "    }\n",
              "\n",
              "    .dataframe thead th {\n",
              "        text-align: right;\n",
              "    }\n",
              "</style>\n",
              "<table border=\"1\" class=\"dataframe\">\n",
              "  <thead>\n",
              "    <tr style=\"text-align: right;\">\n",
              "      <th></th>\n",
              "      <th>CustomerID</th>\n",
              "      <th>Transactions</th>\n",
              "    </tr>\n",
              "  </thead>\n",
              "  <tbody>\n",
              "    <tr>\n",
              "      <th>0</th>\n",
              "      <td>12346.0</td>\n",
              "      <td>1</td>\n",
              "    </tr>\n",
              "    <tr>\n",
              "      <th>1</th>\n",
              "      <td>12347.0</td>\n",
              "      <td>182</td>\n",
              "    </tr>\n",
              "    <tr>\n",
              "      <th>2</th>\n",
              "      <td>12348.0</td>\n",
              "      <td>27</td>\n",
              "    </tr>\n",
              "    <tr>\n",
              "      <th>3</th>\n",
              "      <td>12349.0</td>\n",
              "      <td>72</td>\n",
              "    </tr>\n",
              "    <tr>\n",
              "      <th>4</th>\n",
              "      <td>12350.0</td>\n",
              "      <td>16</td>\n",
              "    </tr>\n",
              "  </tbody>\n",
              "</table>\n",
              "</div>"
            ],
            "text/plain": [
              "   CustomerID  Transactions\n",
              "0     12346.0             1\n",
              "1     12347.0           182\n",
              "2     12348.0            27\n",
              "3     12349.0            72\n",
              "4     12350.0            16"
            ]
          },
          "metadata": {
            "tags": []
          },
          "execution_count": 21
        }
      ]
    },
    {
      "cell_type": "code",
      "metadata": {
        "colab": {
          "base_uri": "https://localhost:8080/"
        },
        "id": "RGbtwFf6KcuY",
        "outputId": "52f4f311-a1be-442d-9557-0a4529bbf25f"
      },
      "source": [
        "# Calculate the median number of purchases\n",
        "trans_median = round(trans_num[\"Transactions\"].median())\n",
        "trans_median"
      ],
      "execution_count": 22,
      "outputs": [
        {
          "output_type": "execute_result",
          "data": {
            "text/plain": [
              "41"
            ]
          },
          "metadata": {
            "tags": []
          },
          "execution_count": 22
        }
      ]
    },
    {
      "cell_type": "code",
      "metadata": {
        "colab": {
          "base_uri": "https://localhost:8080/",
          "height": 204
        },
        "id": "rTGacTK6LQAY",
        "outputId": "b7675b88-6b6a-4830-ed8d-ecb3c3e5d427"
      },
      "source": [
        "# Add the number of the transcations column to the clean data frame\n",
        "act_cust = pd.merge(clean_df, trans_num, how = 'inner', on = 'CustomerID')\n",
        "\n",
        "# Keep the customers that have number of transactions >= trans_median \n",
        "act_cust = act_cust[act_cust[\"Transactions\"] >= trans_median]\n",
        "act_cust.head()"
      ],
      "execution_count": 44,
      "outputs": [
        {
          "output_type": "execute_result",
          "data": {
            "text/html": [
              "<div>\n",
              "<style scoped>\n",
              "    .dataframe tbody tr th:only-of-type {\n",
              "        vertical-align: middle;\n",
              "    }\n",
              "\n",
              "    .dataframe tbody tr th {\n",
              "        vertical-align: top;\n",
              "    }\n",
              "\n",
              "    .dataframe thead th {\n",
              "        text-align: right;\n",
              "    }\n",
              "</style>\n",
              "<table border=\"1\" class=\"dataframe\">\n",
              "  <thead>\n",
              "    <tr style=\"text-align: right;\">\n",
              "      <th></th>\n",
              "      <th>InvoiceNo</th>\n",
              "      <th>StockCode</th>\n",
              "      <th>Quantity</th>\n",
              "      <th>InvoiceDate</th>\n",
              "      <th>UnitPrice</th>\n",
              "      <th>CustomerID</th>\n",
              "      <th>Country</th>\n",
              "      <th>Description</th>\n",
              "      <th>Month</th>\n",
              "      <th>Transactions</th>\n",
              "    </tr>\n",
              "  </thead>\n",
              "  <tbody>\n",
              "    <tr>\n",
              "      <th>0</th>\n",
              "      <td>536365</td>\n",
              "      <td>85123A</td>\n",
              "      <td>6</td>\n",
              "      <td>2010-12-01 08:26:00</td>\n",
              "      <td>2.55</td>\n",
              "      <td>17850.0</td>\n",
              "      <td>United Kingdom</td>\n",
              "      <td>WHITE HANGING HEART T-LIGHT HOLDER</td>\n",
              "      <td>12</td>\n",
              "      <td>293</td>\n",
              "    </tr>\n",
              "    <tr>\n",
              "      <th>1</th>\n",
              "      <td>536373</td>\n",
              "      <td>85123A</td>\n",
              "      <td>6</td>\n",
              "      <td>2010-12-01 09:02:00</td>\n",
              "      <td>2.55</td>\n",
              "      <td>17850.0</td>\n",
              "      <td>United Kingdom</td>\n",
              "      <td>WHITE HANGING HEART T-LIGHT HOLDER</td>\n",
              "      <td>12</td>\n",
              "      <td>293</td>\n",
              "    </tr>\n",
              "    <tr>\n",
              "      <th>2</th>\n",
              "      <td>536375</td>\n",
              "      <td>85123A</td>\n",
              "      <td>6</td>\n",
              "      <td>2010-12-01 09:32:00</td>\n",
              "      <td>2.55</td>\n",
              "      <td>17850.0</td>\n",
              "      <td>United Kingdom</td>\n",
              "      <td>WHITE HANGING HEART T-LIGHT HOLDER</td>\n",
              "      <td>12</td>\n",
              "      <td>293</td>\n",
              "    </tr>\n",
              "    <tr>\n",
              "      <th>3</th>\n",
              "      <td>536396</td>\n",
              "      <td>85123A</td>\n",
              "      <td>6</td>\n",
              "      <td>2010-12-01 10:51:00</td>\n",
              "      <td>2.55</td>\n",
              "      <td>17850.0</td>\n",
              "      <td>United Kingdom</td>\n",
              "      <td>WHITE HANGING HEART T-LIGHT HOLDER</td>\n",
              "      <td>12</td>\n",
              "      <td>293</td>\n",
              "    </tr>\n",
              "    <tr>\n",
              "      <th>4</th>\n",
              "      <td>536406</td>\n",
              "      <td>85123A</td>\n",
              "      <td>8</td>\n",
              "      <td>2010-12-01 11:33:00</td>\n",
              "      <td>2.55</td>\n",
              "      <td>17850.0</td>\n",
              "      <td>United Kingdom</td>\n",
              "      <td>WHITE HANGING HEART T-LIGHT HOLDER</td>\n",
              "      <td>12</td>\n",
              "      <td>293</td>\n",
              "    </tr>\n",
              "  </tbody>\n",
              "</table>\n",
              "</div>"
            ],
            "text/plain": [
              "  InvoiceNo StockCode  ...  Month Transactions\n",
              "0    536365    85123A  ...     12          293\n",
              "1    536373    85123A  ...     12          293\n",
              "2    536375    85123A  ...     12          293\n",
              "3    536396    85123A  ...     12          293\n",
              "4    536406    85123A  ...     12          293\n",
              "\n",
              "[5 rows x 10 columns]"
            ]
          },
          "metadata": {
            "tags": []
          },
          "execution_count": 44
        }
      ]
    },
    {
      "cell_type": "code",
      "metadata": {
        "colab": {
          "base_uri": "https://localhost:8080/",
          "height": 359
        },
        "id": "k4x4L_mzLiuL",
        "outputId": "862f34a6-6680-4f40-e82c-ee47959445eb"
      },
      "source": [
        "# Sum the quantity of each product based on the customer\n",
        "act_cust = act_cust.groupby(['CustomerID', 'Description'])['Quantity'].sum().reset_index()\n",
        "act_cust.head(10)"
      ],
      "execution_count": 45,
      "outputs": [
        {
          "output_type": "execute_result",
          "data": {
            "text/html": [
              "<div>\n",
              "<style scoped>\n",
              "    .dataframe tbody tr th:only-of-type {\n",
              "        vertical-align: middle;\n",
              "    }\n",
              "\n",
              "    .dataframe tbody tr th {\n",
              "        vertical-align: top;\n",
              "    }\n",
              "\n",
              "    .dataframe thead th {\n",
              "        text-align: right;\n",
              "    }\n",
              "</style>\n",
              "<table border=\"1\" class=\"dataframe\">\n",
              "  <thead>\n",
              "    <tr style=\"text-align: right;\">\n",
              "      <th></th>\n",
              "      <th>CustomerID</th>\n",
              "      <th>Description</th>\n",
              "      <th>Quantity</th>\n",
              "    </tr>\n",
              "  </thead>\n",
              "  <tbody>\n",
              "    <tr>\n",
              "      <th>0</th>\n",
              "      <td>12347.0</td>\n",
              "      <td>3D DOG PICTURE PLAYING CARDS</td>\n",
              "      <td>126</td>\n",
              "    </tr>\n",
              "    <tr>\n",
              "      <th>1</th>\n",
              "      <td>12347.0</td>\n",
              "      <td>3D SHEET OF CAT STICKERS</td>\n",
              "      <td>12</td>\n",
              "    </tr>\n",
              "    <tr>\n",
              "      <th>2</th>\n",
              "      <td>12347.0</td>\n",
              "      <td>3D SHEET OF DOG STICKERS</td>\n",
              "      <td>12</td>\n",
              "    </tr>\n",
              "    <tr>\n",
              "      <th>3</th>\n",
              "      <td>12347.0</td>\n",
              "      <td>60 TEATIME FAIRY CAKE CASES</td>\n",
              "      <td>72</td>\n",
              "    </tr>\n",
              "    <tr>\n",
              "      <th>4</th>\n",
              "      <td>12347.0</td>\n",
              "      <td>72 SWEETHEART FAIRY CAKE CASES</td>\n",
              "      <td>72</td>\n",
              "    </tr>\n",
              "    <tr>\n",
              "      <th>5</th>\n",
              "      <td>12347.0</td>\n",
              "      <td>AIRLINE BAG VINTAGE JET SET BROWN</td>\n",
              "      <td>28</td>\n",
              "    </tr>\n",
              "    <tr>\n",
              "      <th>6</th>\n",
              "      <td>12347.0</td>\n",
              "      <td>AIRLINE BAG VINTAGE JET SET RED</td>\n",
              "      <td>16</td>\n",
              "    </tr>\n",
              "    <tr>\n",
              "      <th>7</th>\n",
              "      <td>12347.0</td>\n",
              "      <td>AIRLINE BAG VINTAGE JET SET WHITE</td>\n",
              "      <td>12</td>\n",
              "    </tr>\n",
              "    <tr>\n",
              "      <th>8</th>\n",
              "      <td>12347.0</td>\n",
              "      <td>AIRLINE BAG VINTAGE TOKYO 78</td>\n",
              "      <td>32</td>\n",
              "    </tr>\n",
              "    <tr>\n",
              "      <th>9</th>\n",
              "      <td>12347.0</td>\n",
              "      <td>AIRLINE BAG VINTAGE WORLD CHAMPION</td>\n",
              "      <td>8</td>\n",
              "    </tr>\n",
              "  </tbody>\n",
              "</table>\n",
              "</div>"
            ],
            "text/plain": [
              "   CustomerID                          Description  Quantity\n",
              "0     12347.0         3D DOG PICTURE PLAYING CARDS       126\n",
              "1     12347.0             3D SHEET OF CAT STICKERS        12\n",
              "2     12347.0             3D SHEET OF DOG STICKERS        12\n",
              "3     12347.0          60 TEATIME FAIRY CAKE CASES        72\n",
              "4     12347.0       72 SWEETHEART FAIRY CAKE CASES        72\n",
              "5     12347.0    AIRLINE BAG VINTAGE JET SET BROWN        28\n",
              "6     12347.0      AIRLINE BAG VINTAGE JET SET RED        16\n",
              "7     12347.0    AIRLINE BAG VINTAGE JET SET WHITE        12\n",
              "8     12347.0         AIRLINE BAG VINTAGE TOKYO 78        32\n",
              "9     12347.0  AIRLINE BAG VINTAGE WORLD CHAMPION          8"
            ]
          },
          "metadata": {
            "tags": []
          },
          "execution_count": 45
        }
      ]
    },
    {
      "cell_type": "code",
      "metadata": {
        "colab": {
          "base_uri": "https://localhost:8080/",
          "height": 204
        },
        "id": "ZTDpWdkNMdWr",
        "outputId": "5fec7a21-b254-458a-e7da-3a301190fa12"
      },
      "source": [
        "# Get the max quantity of products based on customer\n",
        "act_cust = act_cust.groupby(['CustomerID']).max().reset_index()\n",
        "act_cust.head()"
      ],
      "execution_count": 46,
      "outputs": [
        {
          "output_type": "execute_result",
          "data": {
            "text/html": [
              "<div>\n",
              "<style scoped>\n",
              "    .dataframe tbody tr th:only-of-type {\n",
              "        vertical-align: middle;\n",
              "    }\n",
              "\n",
              "    .dataframe tbody tr th {\n",
              "        vertical-align: top;\n",
              "    }\n",
              "\n",
              "    .dataframe thead th {\n",
              "        text-align: right;\n",
              "    }\n",
              "</style>\n",
              "<table border=\"1\" class=\"dataframe\">\n",
              "  <thead>\n",
              "    <tr style=\"text-align: right;\">\n",
              "      <th></th>\n",
              "      <th>CustomerID</th>\n",
              "      <th>Description</th>\n",
              "      <th>Quantity</th>\n",
              "    </tr>\n",
              "  </thead>\n",
              "  <tbody>\n",
              "    <tr>\n",
              "      <th>0</th>\n",
              "      <td>12347.0</td>\n",
              "      <td>WOODLAND DESIGN  COTTON TOTE BAG</td>\n",
              "      <td>240</td>\n",
              "    </tr>\n",
              "    <tr>\n",
              "      <th>1</th>\n",
              "      <td>12349.0</td>\n",
              "      <td>ZINC FOLKART SLEIGH BELLS</td>\n",
              "      <td>36</td>\n",
              "    </tr>\n",
              "    <tr>\n",
              "      <th>2</th>\n",
              "      <td>12352.0</td>\n",
              "      <td>ZINC HEART FLOWER T-LIGHT HOLDER</td>\n",
              "      <td>36</td>\n",
              "    </tr>\n",
              "    <tr>\n",
              "      <th>3</th>\n",
              "      <td>12354.0</td>\n",
              "      <td>WOODEN HAPPY BIRTHDAY GARLAND</td>\n",
              "      <td>32</td>\n",
              "    </tr>\n",
              "    <tr>\n",
              "      <th>4</th>\n",
              "      <td>12356.0</td>\n",
              "      <td>WHITE HEART CONFETTI IN TUBE</td>\n",
              "      <td>168</td>\n",
              "    </tr>\n",
              "  </tbody>\n",
              "</table>\n",
              "</div>"
            ],
            "text/plain": [
              "   CustomerID                       Description  Quantity\n",
              "0     12347.0  WOODLAND DESIGN  COTTON TOTE BAG       240\n",
              "1     12349.0         ZINC FOLKART SLEIGH BELLS        36\n",
              "2     12352.0  ZINC HEART FLOWER T-LIGHT HOLDER        36\n",
              "3     12354.0     WOODEN HAPPY BIRTHDAY GARLAND        32\n",
              "4     12356.0      WHITE HEART CONFETTI IN TUBE       168"
            ]
          },
          "metadata": {
            "tags": []
          },
          "execution_count": 46
        }
      ]
    },
    {
      "cell_type": "code",
      "metadata": {
        "colab": {
          "base_uri": "https://localhost:8080/",
          "height": 204
        },
        "id": "OHg2HYnSNyYu",
        "outputId": "c0dd479d-7c60-4dd6-916c-f8fb3e069e61"
      },
      "source": [
        "# List of the preference products for each customer\n",
        "prf_prod_cust = act_cust[['CustomerID', 'Description']]\n",
        "prf_prod_cust.head()"
      ],
      "execution_count": 26,
      "outputs": [
        {
          "output_type": "execute_result",
          "data": {
            "text/html": [
              "<div>\n",
              "<style scoped>\n",
              "    .dataframe tbody tr th:only-of-type {\n",
              "        vertical-align: middle;\n",
              "    }\n",
              "\n",
              "    .dataframe tbody tr th {\n",
              "        vertical-align: top;\n",
              "    }\n",
              "\n",
              "    .dataframe thead th {\n",
              "        text-align: right;\n",
              "    }\n",
              "</style>\n",
              "<table border=\"1\" class=\"dataframe\">\n",
              "  <thead>\n",
              "    <tr style=\"text-align: right;\">\n",
              "      <th></th>\n",
              "      <th>CustomerID</th>\n",
              "      <th>Description</th>\n",
              "    </tr>\n",
              "  </thead>\n",
              "  <tbody>\n",
              "    <tr>\n",
              "      <th>0</th>\n",
              "      <td>12347.0</td>\n",
              "      <td>WOODLAND DESIGN  COTTON TOTE BAG</td>\n",
              "    </tr>\n",
              "    <tr>\n",
              "      <th>1</th>\n",
              "      <td>12349.0</td>\n",
              "      <td>ZINC FOLKART SLEIGH BELLS</td>\n",
              "    </tr>\n",
              "    <tr>\n",
              "      <th>2</th>\n",
              "      <td>12352.0</td>\n",
              "      <td>ZINC HEART FLOWER T-LIGHT HOLDER</td>\n",
              "    </tr>\n",
              "    <tr>\n",
              "      <th>3</th>\n",
              "      <td>12354.0</td>\n",
              "      <td>WOODEN HAPPY BIRTHDAY GARLAND</td>\n",
              "    </tr>\n",
              "    <tr>\n",
              "      <th>4</th>\n",
              "      <td>12356.0</td>\n",
              "      <td>WHITE HEART CONFETTI IN TUBE</td>\n",
              "    </tr>\n",
              "  </tbody>\n",
              "</table>\n",
              "</div>"
            ],
            "text/plain": [
              "   CustomerID                       Description\n",
              "0     12347.0  WOODLAND DESIGN  COTTON TOTE BAG\n",
              "1     12349.0         ZINC FOLKART SLEIGH BELLS\n",
              "2     12352.0  ZINC HEART FLOWER T-LIGHT HOLDER\n",
              "3     12354.0     WOODEN HAPPY BIRTHDAY GARLAND\n",
              "4     12356.0      WHITE HEART CONFETTI IN TUBE"
            ]
          },
          "metadata": {
            "tags": []
          },
          "execution_count": 26
        }
      ]
    },
    {
      "cell_type": "code",
      "metadata": {
        "colab": {
          "base_uri": "https://localhost:8080/",
          "height": 700
        },
        "id": "-sEHTY5JOw6t",
        "outputId": "2e9c33f4-69d5-42b3-b1cd-dbe7ad968d62"
      },
      "source": [
        "# Top 20 favorite products for the customers\n",
        "prf_prod_cust.groupby(['Description']).count().sort_values('CustomerID', ascending=False).head(20)"
      ],
      "execution_count": 27,
      "outputs": [
        {
          "output_type": "execute_result",
          "data": {
            "text/html": [
              "<div>\n",
              "<style scoped>\n",
              "    .dataframe tbody tr th:only-of-type {\n",
              "        vertical-align: middle;\n",
              "    }\n",
              "\n",
              "    .dataframe tbody tr th {\n",
              "        vertical-align: top;\n",
              "    }\n",
              "\n",
              "    .dataframe thead th {\n",
              "        text-align: right;\n",
              "    }\n",
              "</style>\n",
              "<table border=\"1\" class=\"dataframe\">\n",
              "  <thead>\n",
              "    <tr style=\"text-align: right;\">\n",
              "      <th></th>\n",
              "      <th>CustomerID</th>\n",
              "    </tr>\n",
              "    <tr>\n",
              "      <th>Description</th>\n",
              "      <th></th>\n",
              "    </tr>\n",
              "  </thead>\n",
              "  <tbody>\n",
              "    <tr>\n",
              "      <th>ZINC METAL HEART DECORATION</th>\n",
              "      <td>163</td>\n",
              "    </tr>\n",
              "    <tr>\n",
              "      <th>ZINC T-LIGHT HOLDER STARS SMALL</th>\n",
              "      <td>120</td>\n",
              "    </tr>\n",
              "    <tr>\n",
              "      <th>ZINC FOLKART SLEIGH BELLS</th>\n",
              "      <td>108</td>\n",
              "    </tr>\n",
              "    <tr>\n",
              "      <th>ZINC WILLIE WINKIE  CANDLE STICK</th>\n",
              "      <td>108</td>\n",
              "    </tr>\n",
              "    <tr>\n",
              "      <th>YOU'RE CONFUSING ME METAL SIGN</th>\n",
              "      <td>91</td>\n",
              "    </tr>\n",
              "    <tr>\n",
              "      <th>ZINC HERB GARDEN CONTAINER</th>\n",
              "      <td>78</td>\n",
              "    </tr>\n",
              "    <tr>\n",
              "      <th>WORLD WAR 2 GLIDERS ASSTD DESIGNS</th>\n",
              "      <td>74</td>\n",
              "    </tr>\n",
              "    <tr>\n",
              "      <th>WRAP VINTAGE PETALS  DESIGN</th>\n",
              "      <td>70</td>\n",
              "    </tr>\n",
              "    <tr>\n",
              "      <th>WOODLAND CHARLOTTE BAG</th>\n",
              "      <td>44</td>\n",
              "    </tr>\n",
              "    <tr>\n",
              "      <th>WOODEN PICTURE FRAME WHITE FINISH</th>\n",
              "      <td>44</td>\n",
              "    </tr>\n",
              "    <tr>\n",
              "      <th>WOODEN SCHOOL COLOURING SET</th>\n",
              "      <td>44</td>\n",
              "    </tr>\n",
              "    <tr>\n",
              "      <th>WOODEN UNION JACK BUNTING</th>\n",
              "      <td>39</td>\n",
              "    </tr>\n",
              "    <tr>\n",
              "      <th>ZINC SWEETHEART WIRE LETTER RACK</th>\n",
              "      <td>38</td>\n",
              "    </tr>\n",
              "    <tr>\n",
              "      <th>WHITE HANGING HEART T-LIGHT HOLDER</th>\n",
              "      <td>36</td>\n",
              "    </tr>\n",
              "    <tr>\n",
              "      <th>ZINC T-LIGHT HOLDER STAR LARGE</th>\n",
              "      <td>34</td>\n",
              "    </tr>\n",
              "    <tr>\n",
              "      <th>WOODEN TREE CHRISTMAS SCANDINAVIAN</th>\n",
              "      <td>31</td>\n",
              "    </tr>\n",
              "    <tr>\n",
              "      <th>WRAP, BILLBOARD FONTS DESIGN</th>\n",
              "      <td>30</td>\n",
              "    </tr>\n",
              "    <tr>\n",
              "      <th>WRAP PINK FAIRY CAKES</th>\n",
              "      <td>30</td>\n",
              "    </tr>\n",
              "    <tr>\n",
              "      <th>WOODEN STAR CHRISTMAS SCANDINAVIAN</th>\n",
              "      <td>28</td>\n",
              "    </tr>\n",
              "    <tr>\n",
              "      <th>WOODLAND MINI BACKPACK</th>\n",
              "      <td>27</td>\n",
              "    </tr>\n",
              "  </tbody>\n",
              "</table>\n",
              "</div>"
            ],
            "text/plain": [
              "                                    CustomerID\n",
              "Description                                   \n",
              "ZINC METAL HEART DECORATION                163\n",
              "ZINC T-LIGHT HOLDER STARS SMALL            120\n",
              "ZINC FOLKART SLEIGH BELLS                  108\n",
              "ZINC WILLIE WINKIE  CANDLE STICK           108\n",
              "YOU'RE CONFUSING ME METAL SIGN              91\n",
              "ZINC HERB GARDEN CONTAINER                  78\n",
              "WORLD WAR 2 GLIDERS ASSTD DESIGNS           74\n",
              "WRAP VINTAGE PETALS  DESIGN                 70\n",
              "WOODLAND CHARLOTTE BAG                      44\n",
              "WOODEN PICTURE FRAME WHITE FINISH           44\n",
              "WOODEN SCHOOL COLOURING SET                 44\n",
              "WOODEN UNION JACK BUNTING                   39\n",
              "ZINC SWEETHEART WIRE LETTER RACK            38\n",
              "WHITE HANGING HEART T-LIGHT HOLDER          36\n",
              "ZINC T-LIGHT HOLDER STAR LARGE              34\n",
              "WOODEN TREE CHRISTMAS SCANDINAVIAN          31\n",
              "WRAP, BILLBOARD FONTS DESIGN                30\n",
              "WRAP PINK FAIRY CAKES                       30\n",
              "WOODEN STAR CHRISTMAS SCANDINAVIAN          28\n",
              "WOODLAND MINI BACKPACK                      27"
            ]
          },
          "metadata": {
            "tags": []
          },
          "execution_count": 27
        }
      ]
    },
    {
      "cell_type": "markdown",
      "metadata": {
        "id": "ZqNyCQumQjAQ"
      },
      "source": [
        "### **3.2 What is the top three preference products in each country?**\n",
        "\n",
        "The preference product in a country is the most purchased product in that country."
      ]
    },
    {
      "cell_type": "code",
      "metadata": {
        "colab": {
          "base_uri": "https://localhost:8080/",
          "height": 204
        },
        "id": "yysvvcftQ7hW",
        "outputId": "2e70236d-6705-4ec0-ffa2-54434f71adbb"
      },
      "source": [
        "# Sum the quantity of each product based on the country\n",
        "prf_prod_country = clean_df.groupby(['Country', 'Description'])['Quantity'].sum().reset_index()\n",
        "prf_prod_country.head()"
      ],
      "execution_count": 28,
      "outputs": [
        {
          "output_type": "execute_result",
          "data": {
            "text/html": [
              "<div>\n",
              "<style scoped>\n",
              "    .dataframe tbody tr th:only-of-type {\n",
              "        vertical-align: middle;\n",
              "    }\n",
              "\n",
              "    .dataframe tbody tr th {\n",
              "        vertical-align: top;\n",
              "    }\n",
              "\n",
              "    .dataframe thead th {\n",
              "        text-align: right;\n",
              "    }\n",
              "</style>\n",
              "<table border=\"1\" class=\"dataframe\">\n",
              "  <thead>\n",
              "    <tr style=\"text-align: right;\">\n",
              "      <th></th>\n",
              "      <th>Country</th>\n",
              "      <th>Description</th>\n",
              "      <th>Quantity</th>\n",
              "    </tr>\n",
              "  </thead>\n",
              "  <tbody>\n",
              "    <tr>\n",
              "      <th>0</th>\n",
              "      <td>Australia</td>\n",
              "      <td>DOLLY GIRL BEAKER</td>\n",
              "      <td>200</td>\n",
              "    </tr>\n",
              "    <tr>\n",
              "      <th>1</th>\n",
              "      <td>Australia</td>\n",
              "      <td>I LOVE LONDON MINI BACKPACK</td>\n",
              "      <td>4</td>\n",
              "    </tr>\n",
              "    <tr>\n",
              "      <th>2</th>\n",
              "      <td>Australia</td>\n",
              "      <td>10 COLOUR SPACEBOY PEN</td>\n",
              "      <td>48</td>\n",
              "    </tr>\n",
              "    <tr>\n",
              "      <th>3</th>\n",
              "      <td>Australia</td>\n",
              "      <td>12 PENCIL SMALL TUBE WOODLAND</td>\n",
              "      <td>384</td>\n",
              "    </tr>\n",
              "    <tr>\n",
              "      <th>4</th>\n",
              "      <td>Australia</td>\n",
              "      <td>12 PENCILS TALL TUBE POSY</td>\n",
              "      <td>252</td>\n",
              "    </tr>\n",
              "  </tbody>\n",
              "</table>\n",
              "</div>"
            ],
            "text/plain": [
              "     Country                    Description  Quantity\n",
              "0  Australia              DOLLY GIRL BEAKER       200\n",
              "1  Australia    I LOVE LONDON MINI BACKPACK         4\n",
              "2  Australia         10 COLOUR SPACEBOY PEN        48\n",
              "3  Australia  12 PENCIL SMALL TUBE WOODLAND       384\n",
              "4  Australia      12 PENCILS TALL TUBE POSY       252"
            ]
          },
          "metadata": {
            "tags": []
          },
          "execution_count": 28
        }
      ]
    },
    {
      "cell_type": "code",
      "metadata": {
        "colab": {
          "base_uri": "https://localhost:8080/",
          "height": 514
        },
        "id": "W4H8EVmXUM2v",
        "outputId": "17ce2cef-26c5-4c4c-90b3-2f2d1f960f39"
      },
      "source": [
        "# Top 3 favorite products in each country\n",
        "prf_prod_country = prf_prod_country.set_index('Description').groupby('Country')['Quantity'].nlargest(3).reset_index()\n",
        "prf_prod_country = prf_prod_country[['Country', 'Description']]\n",
        "prf_prod_country.head(15)"
      ],
      "execution_count": 29,
      "outputs": [
        {
          "output_type": "execute_result",
          "data": {
            "text/html": [
              "<div>\n",
              "<style scoped>\n",
              "    .dataframe tbody tr th:only-of-type {\n",
              "        vertical-align: middle;\n",
              "    }\n",
              "\n",
              "    .dataframe tbody tr th {\n",
              "        vertical-align: top;\n",
              "    }\n",
              "\n",
              "    .dataframe thead th {\n",
              "        text-align: right;\n",
              "    }\n",
              "</style>\n",
              "<table border=\"1\" class=\"dataframe\">\n",
              "  <thead>\n",
              "    <tr style=\"text-align: right;\">\n",
              "      <th></th>\n",
              "      <th>Country</th>\n",
              "      <th>Description</th>\n",
              "    </tr>\n",
              "  </thead>\n",
              "  <tbody>\n",
              "    <tr>\n",
              "      <th>0</th>\n",
              "      <td>Australia</td>\n",
              "      <td>MINI PAINT SET VINTAGE</td>\n",
              "    </tr>\n",
              "    <tr>\n",
              "      <th>1</th>\n",
              "      <td>Australia</td>\n",
              "      <td>RABBIT NIGHT LIGHT</td>\n",
              "    </tr>\n",
              "    <tr>\n",
              "      <th>2</th>\n",
              "      <td>Australia</td>\n",
              "      <td>RED  HARMONICA IN BOX</td>\n",
              "    </tr>\n",
              "    <tr>\n",
              "      <th>3</th>\n",
              "      <td>Austria</td>\n",
              "      <td>SET 12 KIDS COLOUR  CHALK STICKS</td>\n",
              "    </tr>\n",
              "    <tr>\n",
              "      <th>4</th>\n",
              "      <td>Austria</td>\n",
              "      <td>MINI JIGSAW PURDEY</td>\n",
              "    </tr>\n",
              "    <tr>\n",
              "      <th>5</th>\n",
              "      <td>Austria</td>\n",
              "      <td>PACK OF 6 PANNETONE GIFT BOXES</td>\n",
              "    </tr>\n",
              "    <tr>\n",
              "      <th>6</th>\n",
              "      <td>Bahrain</td>\n",
              "      <td>ICE CREAM SUNDAE LIP GLOSS</td>\n",
              "    </tr>\n",
              "    <tr>\n",
              "      <th>7</th>\n",
              "      <td>Bahrain</td>\n",
              "      <td>DOUGHNUT LIP GLOSS</td>\n",
              "    </tr>\n",
              "    <tr>\n",
              "      <th>8</th>\n",
              "      <td>Bahrain</td>\n",
              "      <td>GROW A FLYTRAP OR SUNFLOWER IN TIN</td>\n",
              "    </tr>\n",
              "    <tr>\n",
              "      <th>9</th>\n",
              "      <td>Belgium</td>\n",
              "      <td>PACK OF 72 RETROSPOT CAKE CASES</td>\n",
              "    </tr>\n",
              "    <tr>\n",
              "      <th>10</th>\n",
              "      <td>Belgium</td>\n",
              "      <td>ROUND SNACK BOXES SET OF4 WOODLAND</td>\n",
              "    </tr>\n",
              "    <tr>\n",
              "      <th>11</th>\n",
              "      <td>Belgium</td>\n",
              "      <td>PACK OF 60 SPACEBOY CAKE CASES</td>\n",
              "    </tr>\n",
              "    <tr>\n",
              "      <th>12</th>\n",
              "      <td>Brazil</td>\n",
              "      <td>DOLLY GIRL LUNCH BOX</td>\n",
              "    </tr>\n",
              "    <tr>\n",
              "      <th>13</th>\n",
              "      <td>Brazil</td>\n",
              "      <td>GREEN REGENCY TEACUP AND SAUCER</td>\n",
              "    </tr>\n",
              "    <tr>\n",
              "      <th>14</th>\n",
              "      <td>Brazil</td>\n",
              "      <td>PINK REGENCY TEACUP AND SAUCER</td>\n",
              "    </tr>\n",
              "  </tbody>\n",
              "</table>\n",
              "</div>"
            ],
            "text/plain": [
              "      Country                          Description\n",
              "0   Australia              MINI PAINT SET VINTAGE \n",
              "1   Australia                   RABBIT NIGHT LIGHT\n",
              "2   Australia               RED  HARMONICA IN BOX \n",
              "3     Austria     SET 12 KIDS COLOUR  CHALK STICKS\n",
              "4     Austria                   MINI JIGSAW PURDEY\n",
              "5     Austria       PACK OF 6 PANNETONE GIFT BOXES\n",
              "6     Bahrain           ICE CREAM SUNDAE LIP GLOSS\n",
              "7     Bahrain                  DOUGHNUT LIP GLOSS \n",
              "8     Bahrain   GROW A FLYTRAP OR SUNFLOWER IN TIN\n",
              "9     Belgium      PACK OF 72 RETROSPOT CAKE CASES\n",
              "10    Belgium  ROUND SNACK BOXES SET OF4 WOODLAND \n",
              "11    Belgium       PACK OF 60 SPACEBOY CAKE CASES\n",
              "12     Brazil                 DOLLY GIRL LUNCH BOX\n",
              "13     Brazil      GREEN REGENCY TEACUP AND SAUCER\n",
              "14     Brazil       PINK REGENCY TEACUP AND SAUCER"
            ]
          },
          "metadata": {
            "tags": []
          },
          "execution_count": 29
        }
      ]
    },
    {
      "cell_type": "markdown",
      "metadata": {
        "id": "s4FMjFOWFM7V"
      },
      "source": [
        "### **3.3 What is the top three preference products in each month?**\n",
        "\n",
        "The preference product in a month is the most purchased product in that month."
      ]
    },
    {
      "cell_type": "code",
      "metadata": {
        "colab": {
          "base_uri": "https://localhost:8080/",
          "height": 204
        },
        "id": "jJEq2UGWFdZe",
        "outputId": "394561a6-474c-4009-9967-fbfb124b67a9"
      },
      "source": [
        "# Create month column from the InvoiveDate column \n",
        "clean_df['Month'] = pd.DatetimeIndex(clean_df['InvoiceDate']).month\n",
        "clean_df.head()"
      ],
      "execution_count": 32,
      "outputs": [
        {
          "output_type": "execute_result",
          "data": {
            "text/html": [
              "<div>\n",
              "<style scoped>\n",
              "    .dataframe tbody tr th:only-of-type {\n",
              "        vertical-align: middle;\n",
              "    }\n",
              "\n",
              "    .dataframe tbody tr th {\n",
              "        vertical-align: top;\n",
              "    }\n",
              "\n",
              "    .dataframe thead th {\n",
              "        text-align: right;\n",
              "    }\n",
              "</style>\n",
              "<table border=\"1\" class=\"dataframe\">\n",
              "  <thead>\n",
              "    <tr style=\"text-align: right;\">\n",
              "      <th></th>\n",
              "      <th>InvoiceNo</th>\n",
              "      <th>StockCode</th>\n",
              "      <th>Quantity</th>\n",
              "      <th>InvoiceDate</th>\n",
              "      <th>UnitPrice</th>\n",
              "      <th>CustomerID</th>\n",
              "      <th>Country</th>\n",
              "      <th>Description</th>\n",
              "      <th>Month</th>\n",
              "    </tr>\n",
              "  </thead>\n",
              "  <tbody>\n",
              "    <tr>\n",
              "      <th>0</th>\n",
              "      <td>536365</td>\n",
              "      <td>85123A</td>\n",
              "      <td>6</td>\n",
              "      <td>2010-12-01 08:26:00</td>\n",
              "      <td>2.55</td>\n",
              "      <td>17850.0</td>\n",
              "      <td>United Kingdom</td>\n",
              "      <td>WHITE HANGING HEART T-LIGHT HOLDER</td>\n",
              "      <td>12</td>\n",
              "    </tr>\n",
              "    <tr>\n",
              "      <th>1</th>\n",
              "      <td>536373</td>\n",
              "      <td>85123A</td>\n",
              "      <td>6</td>\n",
              "      <td>2010-12-01 09:02:00</td>\n",
              "      <td>2.55</td>\n",
              "      <td>17850.0</td>\n",
              "      <td>United Kingdom</td>\n",
              "      <td>WHITE HANGING HEART T-LIGHT HOLDER</td>\n",
              "      <td>12</td>\n",
              "    </tr>\n",
              "    <tr>\n",
              "      <th>2</th>\n",
              "      <td>536375</td>\n",
              "      <td>85123A</td>\n",
              "      <td>6</td>\n",
              "      <td>2010-12-01 09:32:00</td>\n",
              "      <td>2.55</td>\n",
              "      <td>17850.0</td>\n",
              "      <td>United Kingdom</td>\n",
              "      <td>WHITE HANGING HEART T-LIGHT HOLDER</td>\n",
              "      <td>12</td>\n",
              "    </tr>\n",
              "    <tr>\n",
              "      <th>3</th>\n",
              "      <td>536390</td>\n",
              "      <td>85123A</td>\n",
              "      <td>64</td>\n",
              "      <td>2010-12-01 10:19:00</td>\n",
              "      <td>2.55</td>\n",
              "      <td>17511.0</td>\n",
              "      <td>United Kingdom</td>\n",
              "      <td>WHITE HANGING HEART T-LIGHT HOLDER</td>\n",
              "      <td>12</td>\n",
              "    </tr>\n",
              "    <tr>\n",
              "      <th>4</th>\n",
              "      <td>536394</td>\n",
              "      <td>85123A</td>\n",
              "      <td>32</td>\n",
              "      <td>2010-12-01 10:39:00</td>\n",
              "      <td>2.55</td>\n",
              "      <td>13408.0</td>\n",
              "      <td>United Kingdom</td>\n",
              "      <td>WHITE HANGING HEART T-LIGHT HOLDER</td>\n",
              "      <td>12</td>\n",
              "    </tr>\n",
              "  </tbody>\n",
              "</table>\n",
              "</div>"
            ],
            "text/plain": [
              "  InvoiceNo StockCode  ...                         Description Month\n",
              "0    536365    85123A  ...  WHITE HANGING HEART T-LIGHT HOLDER    12\n",
              "1    536373    85123A  ...  WHITE HANGING HEART T-LIGHT HOLDER    12\n",
              "2    536375    85123A  ...  WHITE HANGING HEART T-LIGHT HOLDER    12\n",
              "3    536390    85123A  ...  WHITE HANGING HEART T-LIGHT HOLDER    12\n",
              "4    536394    85123A  ...  WHITE HANGING HEART T-LIGHT HOLDER    12\n",
              "\n",
              "[5 rows x 9 columns]"
            ]
          },
          "metadata": {
            "tags": []
          },
          "execution_count": 32
        }
      ]
    },
    {
      "cell_type": "code",
      "metadata": {
        "colab": {
          "base_uri": "https://localhost:8080/",
          "height": 204
        },
        "id": "uzw_OXlpOMpF",
        "outputId": "d5bf21f5-32f7-427e-b616-9018218f8a4f"
      },
      "source": [
        "# Sum the quantity of each product based on the month\n",
        "prf_prod_mnth = clean_df.groupby(['Month','Description'])['Quantity'].sum().reset_index()\n",
        "prf_prod_mnth.head()"
      ],
      "execution_count": 60,
      "outputs": [
        {
          "output_type": "execute_result",
          "data": {
            "text/html": [
              "<div>\n",
              "<style scoped>\n",
              "    .dataframe tbody tr th:only-of-type {\n",
              "        vertical-align: middle;\n",
              "    }\n",
              "\n",
              "    .dataframe tbody tr th {\n",
              "        vertical-align: top;\n",
              "    }\n",
              "\n",
              "    .dataframe thead th {\n",
              "        text-align: right;\n",
              "    }\n",
              "</style>\n",
              "<table border=\"1\" class=\"dataframe\">\n",
              "  <thead>\n",
              "    <tr style=\"text-align: right;\">\n",
              "      <th></th>\n",
              "      <th>Month</th>\n",
              "      <th>Description</th>\n",
              "      <th>Quantity</th>\n",
              "    </tr>\n",
              "  </thead>\n",
              "  <tbody>\n",
              "    <tr>\n",
              "      <th>0</th>\n",
              "      <td>1</td>\n",
              "      <td>4 PURPLE FLOCK DINNER CANDLES</td>\n",
              "      <td>2</td>\n",
              "    </tr>\n",
              "    <tr>\n",
              "      <th>1</th>\n",
              "      <td>1</td>\n",
              "      <td>OVAL WALL MIRROR DIAMANTE</td>\n",
              "      <td>12</td>\n",
              "    </tr>\n",
              "    <tr>\n",
              "      <th>2</th>\n",
              "      <td>1</td>\n",
              "      <td>SET 2 TEA TOWELS I LOVE LONDON</td>\n",
              "      <td>417</td>\n",
              "    </tr>\n",
              "    <tr>\n",
              "      <th>3</th>\n",
              "      <td>1</td>\n",
              "      <td>10 COLOUR SPACEBOY PEN</td>\n",
              "      <td>276</td>\n",
              "    </tr>\n",
              "    <tr>\n",
              "      <th>4</th>\n",
              "      <td>1</td>\n",
              "      <td>12 COLOURED PARTY BALLOONS</td>\n",
              "      <td>80</td>\n",
              "    </tr>\n",
              "  </tbody>\n",
              "</table>\n",
              "</div>"
            ],
            "text/plain": [
              "   Month                       Description  Quantity\n",
              "0      1     4 PURPLE FLOCK DINNER CANDLES         2\n",
              "1      1        OVAL WALL MIRROR DIAMANTE         12\n",
              "2      1   SET 2 TEA TOWELS I LOVE LONDON        417\n",
              "3      1            10 COLOUR SPACEBOY PEN       276\n",
              "4      1        12 COLOURED PARTY BALLOONS        80"
            ]
          },
          "metadata": {
            "tags": []
          },
          "execution_count": 60
        }
      ]
    },
    {
      "cell_type": "code",
      "metadata": {
        "colab": {
          "base_uri": "https://localhost:8080/",
          "height": 1000
        },
        "id": "-kxTVv56QGiU",
        "outputId": "d156525f-8781-4d9f-9c2b-489c0d5c048f"
      },
      "source": [
        "# Top 3 favorite products in each Month\n",
        "prf_prod_mnthh = prf_prod_mnth.set_index('Description').groupby(['Month'])['Quantity'].nlargest(3).reset_index()\n",
        "prf_prod_mnthh"
      ],
      "execution_count": 61,
      "outputs": [
        {
          "output_type": "execute_result",
          "data": {
            "text/html": [
              "<div>\n",
              "<style scoped>\n",
              "    .dataframe tbody tr th:only-of-type {\n",
              "        vertical-align: middle;\n",
              "    }\n",
              "\n",
              "    .dataframe tbody tr th {\n",
              "        vertical-align: top;\n",
              "    }\n",
              "\n",
              "    .dataframe thead th {\n",
              "        text-align: right;\n",
              "    }\n",
              "</style>\n",
              "<table border=\"1\" class=\"dataframe\">\n",
              "  <thead>\n",
              "    <tr style=\"text-align: right;\">\n",
              "      <th></th>\n",
              "      <th>Month</th>\n",
              "      <th>Description</th>\n",
              "      <th>Quantity</th>\n",
              "    </tr>\n",
              "  </thead>\n",
              "  <tbody>\n",
              "    <tr>\n",
              "      <th>0</th>\n",
              "      <td>1</td>\n",
              "      <td>MEDIUM CERAMIC TOP STORAGE JAR</td>\n",
              "      <td>74215</td>\n",
              "    </tr>\n",
              "    <tr>\n",
              "      <th>1</th>\n",
              "      <td>1</td>\n",
              "      <td>WHITE HANGING HEART T-LIGHT HOLDER</td>\n",
              "      <td>5467</td>\n",
              "    </tr>\n",
              "    <tr>\n",
              "      <th>2</th>\n",
              "      <td>1</td>\n",
              "      <td>PACK OF 72 RETROSPOT CAKE CASES</td>\n",
              "      <td>3329</td>\n",
              "    </tr>\n",
              "    <tr>\n",
              "      <th>3</th>\n",
              "      <td>2</td>\n",
              "      <td>EMPIRE DESIGN ROSETTE</td>\n",
              "      <td>3986</td>\n",
              "    </tr>\n",
              "    <tr>\n",
              "      <th>4</th>\n",
              "      <td>2</td>\n",
              "      <td>GROW A FLYTRAP OR SUNFLOWER IN TIN</td>\n",
              "      <td>3795</td>\n",
              "    </tr>\n",
              "    <tr>\n",
              "      <th>5</th>\n",
              "      <td>2</td>\n",
              "      <td>WORLD WAR 2 GLIDERS ASSTD DESIGNS</td>\n",
              "      <td>3457</td>\n",
              "    </tr>\n",
              "    <tr>\n",
              "      <th>6</th>\n",
              "      <td>3</td>\n",
              "      <td>JUMBO BAG RED RETROSPOT</td>\n",
              "      <td>4924</td>\n",
              "    </tr>\n",
              "    <tr>\n",
              "      <th>7</th>\n",
              "      <td>3</td>\n",
              "      <td>WORLD WAR 2 GLIDERS ASSTD DESIGNS</td>\n",
              "      <td>3888</td>\n",
              "    </tr>\n",
              "    <tr>\n",
              "      <th>8</th>\n",
              "      <td>3</td>\n",
              "      <td>PACK OF 72 RETROSPOT CAKE CASES</td>\n",
              "      <td>3720</td>\n",
              "    </tr>\n",
              "    <tr>\n",
              "      <th>9</th>\n",
              "      <td>4</td>\n",
              "      <td>WORLD WAR 2 GLIDERS ASSTD DESIGNS</td>\n",
              "      <td>10224</td>\n",
              "    </tr>\n",
              "    <tr>\n",
              "      <th>10</th>\n",
              "      <td>4</td>\n",
              "      <td>WHITE HANGING HEART T-LIGHT HOLDER</td>\n",
              "      <td>3725</td>\n",
              "    </tr>\n",
              "    <tr>\n",
              "      <th>11</th>\n",
              "      <td>4</td>\n",
              "      <td>FAIRY CAKE FLANNEL ASSORTED COLOUR</td>\n",
              "      <td>3142</td>\n",
              "    </tr>\n",
              "    <tr>\n",
              "      <th>12</th>\n",
              "      <td>5</td>\n",
              "      <td>SMALL POPCORN HOLDER</td>\n",
              "      <td>6738</td>\n",
              "    </tr>\n",
              "    <tr>\n",
              "      <th>13</th>\n",
              "      <td>5</td>\n",
              "      <td>WORLD WAR 2 GLIDERS ASSTD DESIGNS</td>\n",
              "      <td>4944</td>\n",
              "    </tr>\n",
              "    <tr>\n",
              "      <th>14</th>\n",
              "      <td>5</td>\n",
              "      <td>PACK OF 60 PINK PAISLEY CAKE CASES</td>\n",
              "      <td>3949</td>\n",
              "    </tr>\n",
              "    <tr>\n",
              "      <th>15</th>\n",
              "      <td>6</td>\n",
              "      <td>JUMBO BAG RED RETROSPOT</td>\n",
              "      <td>3529</td>\n",
              "    </tr>\n",
              "    <tr>\n",
              "      <th>16</th>\n",
              "      <td>6</td>\n",
              "      <td>ASSORTED COLOURS SILK FAN</td>\n",
              "      <td>3096</td>\n",
              "    </tr>\n",
              "    <tr>\n",
              "      <th>17</th>\n",
              "      <td>6</td>\n",
              "      <td>BROCADE RING PURSE</td>\n",
              "      <td>2988</td>\n",
              "    </tr>\n",
              "    <tr>\n",
              "      <th>18</th>\n",
              "      <td>7</td>\n",
              "      <td>GIRLS ALPHABET IRON ON PATCHES</td>\n",
              "      <td>4896</td>\n",
              "    </tr>\n",
              "    <tr>\n",
              "      <th>19</th>\n",
              "      <td>7</td>\n",
              "      <td>WORLD WAR 2 GLIDERS ASSTD DESIGNS</td>\n",
              "      <td>3600</td>\n",
              "    </tr>\n",
              "    <tr>\n",
              "      <th>20</th>\n",
              "      <td>7</td>\n",
              "      <td>ASSORTED COLOURS SILK FAN</td>\n",
              "      <td>3384</td>\n",
              "    </tr>\n",
              "    <tr>\n",
              "      <th>21</th>\n",
              "      <td>8</td>\n",
              "      <td>ASSORTED COLOUR BIRD ORNAMENT</td>\n",
              "      <td>6425</td>\n",
              "    </tr>\n",
              "    <tr>\n",
              "      <th>22</th>\n",
              "      <td>8</td>\n",
              "      <td>SMALL POPCORN HOLDER</td>\n",
              "      <td>5286</td>\n",
              "    </tr>\n",
              "    <tr>\n",
              "      <th>23</th>\n",
              "      <td>8</td>\n",
              "      <td>JUMBO BAG RED RETROSPOT</td>\n",
              "      <td>5278</td>\n",
              "    </tr>\n",
              "    <tr>\n",
              "      <th>24</th>\n",
              "      <td>9</td>\n",
              "      <td>JUMBO BAG RED RETROSPOT</td>\n",
              "      <td>4177</td>\n",
              "    </tr>\n",
              "    <tr>\n",
              "      <th>25</th>\n",
              "      <td>9</td>\n",
              "      <td>SMALL POPCORN HOLDER</td>\n",
              "      <td>3772</td>\n",
              "    </tr>\n",
              "    <tr>\n",
              "      <th>26</th>\n",
              "      <td>9</td>\n",
              "      <td>60 CAKE CASES VINTAGE CHRISTMAS</td>\n",
              "      <td>3669</td>\n",
              "    </tr>\n",
              "    <tr>\n",
              "      <th>27</th>\n",
              "      <td>10</td>\n",
              "      <td>WORLD WAR 2 GLIDERS ASSTD DESIGNS</td>\n",
              "      <td>8174</td>\n",
              "    </tr>\n",
              "    <tr>\n",
              "      <th>28</th>\n",
              "      <td>10</td>\n",
              "      <td>RABBIT NIGHT LIGHT</td>\n",
              "      <td>6249</td>\n",
              "    </tr>\n",
              "    <tr>\n",
              "      <th>29</th>\n",
              "      <td>10</td>\n",
              "      <td>SMALL POPCORN HOLDER</td>\n",
              "      <td>5644</td>\n",
              "    </tr>\n",
              "    <tr>\n",
              "      <th>30</th>\n",
              "      <td>11</td>\n",
              "      <td>ASSTD DESIGN 3D PAPER STICKERS</td>\n",
              "      <td>12551</td>\n",
              "    </tr>\n",
              "    <tr>\n",
              "      <th>31</th>\n",
              "      <td>11</td>\n",
              "      <td>RABBIT NIGHT LIGHT</td>\n",
              "      <td>12393</td>\n",
              "    </tr>\n",
              "    <tr>\n",
              "      <th>32</th>\n",
              "      <td>11</td>\n",
              "      <td>SMALL POPCORN HOLDER</td>\n",
              "      <td>8458</td>\n",
              "    </tr>\n",
              "    <tr>\n",
              "      <th>33</th>\n",
              "      <td>12</td>\n",
              "      <td>PAPER CRAFT , LITTLE BIRDIE</td>\n",
              "      <td>80995</td>\n",
              "    </tr>\n",
              "    <tr>\n",
              "      <th>34</th>\n",
              "      <td>12</td>\n",
              "      <td>SMALL POPCORN HOLDER</td>\n",
              "      <td>7472</td>\n",
              "    </tr>\n",
              "    <tr>\n",
              "      <th>35</th>\n",
              "      <td>12</td>\n",
              "      <td>WORLD WAR 2 GLIDERS ASSTD DESIGNS</td>\n",
              "      <td>6502</td>\n",
              "    </tr>\n",
              "  </tbody>\n",
              "</table>\n",
              "</div>"
            ],
            "text/plain": [
              "    Month                         Description  Quantity\n",
              "0       1      MEDIUM CERAMIC TOP STORAGE JAR     74215\n",
              "1       1  WHITE HANGING HEART T-LIGHT HOLDER      5467\n",
              "2       1     PACK OF 72 RETROSPOT CAKE CASES      3329\n",
              "3       2               EMPIRE DESIGN ROSETTE      3986\n",
              "4       2  GROW A FLYTRAP OR SUNFLOWER IN TIN      3795\n",
              "5       2   WORLD WAR 2 GLIDERS ASSTD DESIGNS      3457\n",
              "6       3             JUMBO BAG RED RETROSPOT      4924\n",
              "7       3   WORLD WAR 2 GLIDERS ASSTD DESIGNS      3888\n",
              "8       3     PACK OF 72 RETROSPOT CAKE CASES      3720\n",
              "9       4   WORLD WAR 2 GLIDERS ASSTD DESIGNS     10224\n",
              "10      4  WHITE HANGING HEART T-LIGHT HOLDER      3725\n",
              "11      4  FAIRY CAKE FLANNEL ASSORTED COLOUR      3142\n",
              "12      5                SMALL POPCORN HOLDER      6738\n",
              "13      5   WORLD WAR 2 GLIDERS ASSTD DESIGNS      4944\n",
              "14      5  PACK OF 60 PINK PAISLEY CAKE CASES      3949\n",
              "15      6             JUMBO BAG RED RETROSPOT      3529\n",
              "16      6           ASSORTED COLOURS SILK FAN      3096\n",
              "17      6                 BROCADE RING PURSE       2988\n",
              "18      7     GIRLS ALPHABET IRON ON PATCHES       4896\n",
              "19      7   WORLD WAR 2 GLIDERS ASSTD DESIGNS      3600\n",
              "20      7           ASSORTED COLOURS SILK FAN      3384\n",
              "21      8       ASSORTED COLOUR BIRD ORNAMENT      6425\n",
              "22      8                SMALL POPCORN HOLDER      5286\n",
              "23      8             JUMBO BAG RED RETROSPOT      5278\n",
              "24      9             JUMBO BAG RED RETROSPOT      4177\n",
              "25      9                SMALL POPCORN HOLDER      3772\n",
              "26      9     60 CAKE CASES VINTAGE CHRISTMAS      3669\n",
              "27     10   WORLD WAR 2 GLIDERS ASSTD DESIGNS      8174\n",
              "28     10                  RABBIT NIGHT LIGHT      6249\n",
              "29     10                SMALL POPCORN HOLDER      5644\n",
              "30     11      ASSTD DESIGN 3D PAPER STICKERS     12551\n",
              "31     11                  RABBIT NIGHT LIGHT     12393\n",
              "32     11                SMALL POPCORN HOLDER      8458\n",
              "33     12         PAPER CRAFT , LITTLE BIRDIE     80995\n",
              "34     12                SMALL POPCORN HOLDER      7472\n",
              "35     12   WORLD WAR 2 GLIDERS ASSTD DESIGNS      6502"
            ]
          },
          "metadata": {
            "tags": []
          },
          "execution_count": 61
        }
      ]
    },
    {
      "cell_type": "code",
      "metadata": {
        "colab": {
          "base_uri": "https://localhost:8080/",
          "height": 266
        },
        "id": "1gJI5KihVv3C",
        "outputId": "dac6adbe-4fcf-46b2-ffe3-5df520237dc3"
      },
      "source": [
        "# The favorite products in more than one month\n",
        "prf_prod_mnths = prf_prod_mnthh.groupby('Description')['Month'].count().to_frame()\n",
        "prf_prod_mnths[prf_prod_mnths['Month']>1].reset_index()"
      ],
      "execution_count": 75,
      "outputs": [
        {
          "output_type": "execute_result",
          "data": {
            "text/html": [
              "<div>\n",
              "<style scoped>\n",
              "    .dataframe tbody tr th:only-of-type {\n",
              "        vertical-align: middle;\n",
              "    }\n",
              "\n",
              "    .dataframe tbody tr th {\n",
              "        vertical-align: top;\n",
              "    }\n",
              "\n",
              "    .dataframe thead th {\n",
              "        text-align: right;\n",
              "    }\n",
              "</style>\n",
              "<table border=\"1\" class=\"dataframe\">\n",
              "  <thead>\n",
              "    <tr style=\"text-align: right;\">\n",
              "      <th></th>\n",
              "      <th>Description</th>\n",
              "      <th>Month</th>\n",
              "    </tr>\n",
              "  </thead>\n",
              "  <tbody>\n",
              "    <tr>\n",
              "      <th>0</th>\n",
              "      <td>ASSORTED COLOURS SILK FAN</td>\n",
              "      <td>2</td>\n",
              "    </tr>\n",
              "    <tr>\n",
              "      <th>1</th>\n",
              "      <td>JUMBO BAG RED RETROSPOT</td>\n",
              "      <td>4</td>\n",
              "    </tr>\n",
              "    <tr>\n",
              "      <th>2</th>\n",
              "      <td>PACK OF 72 RETROSPOT CAKE CASES</td>\n",
              "      <td>2</td>\n",
              "    </tr>\n",
              "    <tr>\n",
              "      <th>3</th>\n",
              "      <td>RABBIT NIGHT LIGHT</td>\n",
              "      <td>2</td>\n",
              "    </tr>\n",
              "    <tr>\n",
              "      <th>4</th>\n",
              "      <td>SMALL POPCORN HOLDER</td>\n",
              "      <td>6</td>\n",
              "    </tr>\n",
              "    <tr>\n",
              "      <th>5</th>\n",
              "      <td>WHITE HANGING HEART T-LIGHT HOLDER</td>\n",
              "      <td>2</td>\n",
              "    </tr>\n",
              "    <tr>\n",
              "      <th>6</th>\n",
              "      <td>WORLD WAR 2 GLIDERS ASSTD DESIGNS</td>\n",
              "      <td>7</td>\n",
              "    </tr>\n",
              "  </tbody>\n",
              "</table>\n",
              "</div>"
            ],
            "text/plain": [
              "                          Description  Month\n",
              "0           ASSORTED COLOURS SILK FAN      2\n",
              "1             JUMBO BAG RED RETROSPOT      4\n",
              "2     PACK OF 72 RETROSPOT CAKE CASES      2\n",
              "3                  RABBIT NIGHT LIGHT      2\n",
              "4                SMALL POPCORN HOLDER      6\n",
              "5  WHITE HANGING HEART T-LIGHT HOLDER      2\n",
              "6   WORLD WAR 2 GLIDERS ASSTD DESIGNS      7"
            ]
          },
          "metadata": {
            "tags": []
          },
          "execution_count": 75
        }
      ]
    },
    {
      "cell_type": "markdown",
      "metadata": {
        "id": "kCSenjj-am43"
      },
      "source": [
        "# **SUMMARY**\n",
        "\n",
        "### ***From above, we can see that the preference of products in an online store are different based on the customer, country and month of purchase. So, to make good products recommendations we have to take into consideration these factors.***\n",
        "\n",
        "### ***Analyzing e-commerce transactions can help us in identifying the most frequently purchased products by the customer, and then make good products recommendations to the customers. Taking into consideration the customer country and the month of purchase can help in give better recommendations.***"
      ]
    }
  ]
}